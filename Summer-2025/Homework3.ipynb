{
 "cells": [
  {
   "cell_type": "markdown",
   "metadata": {
    "id": "qVMCjEV1IEC7"
   },
   "source": [
    "# CIS 5450 Homework 3: Spark SQL\n",
    "\n",
    "### **Deadline: Tuesday, June 22, 2025 @ 11:59pm EST**\n",
    "\n",
    "#### **Worth 100 points**\n",
    "\n",
    "Welcome to CIS 5450 Homework 3! In this homework you will gain a mastery of using Spark SQL. By the end, you'll be a star (not that you aren't already one). Over the next few days you will be using an EMR cluster to use Spark to manipulate the datasets about Amazon products and their reviews.\n",
    "\n",
    "## The Necessary Notes and Nags\n",
    "Before we begin here are some important notes to keep in mind,\n",
    "\n",
    "\n",
    "1.   **IMPORTANT!** I said it twice, it's really important. In this homework, we will be using AWS resources. You are given a quota ($50) to use for the entirety of the homework. There is a small chance you will use all this money, however it is important that at the end of every session, you **shut down your EMR cluster**.\n",
    "2.   **Be sure you use Google Colab for this Homework** since we must connect to the EMR cluster and local Jupyter will have issues doing that. Using a Google Colab Notebook with an EMR cluster has two important abnormalities:\n",
    "    * The first line of any cell in which you will use the spark session must be `%%spark`. Notice that all cells below have this.\n",
    "    * You will, unfortunately, not be able to stop a cell while it is running. If you wish to do so, you will need to restart your cluster. See the Setup EMR Document for reference.\n",
    "3.   You are **required** to use Spark SQL queries to handle the data in the assignment. Mastering SQL is more beneficial than being able to use Spark commands (functions) as it will show up in more areas of programming and data science/analytics than just Spark. Use the following [function list](https://spark.apache.org/docs/latest/api/sql/index.html#) to see all the SQL functions avaliable in Spark. Please avoid the use Spark dataframe methods that use Pandas API.\n",
    "4.   Throughout the homework you will be manipulating Spark dataframes (sdfs).\n",
    "5. Based on the challenges you've faced in the previous homework, we are including information on the expected schema of your results.  Apache Spark is very fiddly but we hope this will help.\n",
    "6. There are portions of this homework that are _very_ hard. We urge you start early to come to office hours and get help if you get stuck. But don't worry, I can see the future, and you all got this.\n",
    "\n",
    "With that said, let's dive in.\n",
    "\n",
    "\n"
   ]
  },
  {
   "cell_type": "markdown",
   "metadata": {
    "id": "7XEqGpEGBWs5"
   },
   "source": [
    "## Step 0: Set up EMR\n",
    "\n",
    "Follow the [AWS Academy Getting Started](https://docs.google.com/document/d/1xJx3KhUJ5SG3X3VatL4csY4Pfgfrgx2cCc9bFPb8Fy4/edit?usp=sharing) instructions.\n",
    "\n",
    "Move on to Step 0.1 after you have completed all the steps in the document.\n",
    "\n",
    "If you are facing issues with this please take a look at the troubleshooting guide [here](https://docs.google.com/document/d/1-YRuWx22kC2dCfUPe-x8lO9WXWy_PrpI/edit?usp=sharing&ouid=109764973511298178689&rtpof=true&sd=true)\n",
    "\n",
    "\n",
    "![ACME GIANT RUBBER BAND](https://pbs.twimg.com/media/DRqbJh7UMAE2z4o?format=jpg&name=4096x4096)\n"
   ]
  },
  {
   "cell_type": "markdown",
   "metadata": {
    "id": "5iBPXxgAdXkv"
   },
   "source": [
    "### 0.1: The Superfluous Setup\n",
    "\n",
    "Run the following two cells. These will allow your colab notebook to connect to and use your EMR."
   ]
  },
  {
   "cell_type": "code",
   "execution_count": null,
   "metadata": {
    "id": "pvkEbVaaAQ1e"
   },
   "outputs": [],
   "source": [
    "#%%capture\n",
    "!apt install libkrb5-dev\n",
    "!pip install sparkmagic\n",
    "!pip install penngrader-client"
   ]
  },
  {
   "cell_type": "code",
   "execution_count": null,
   "metadata": {
    "id": "6WAJmQ8IAbRs"
   },
   "outputs": [],
   "source": [
    "%load_ext sparkmagic.magics"
   ]
  },
  {
   "cell_type": "markdown",
   "metadata": {
    "id": "CL6n768EPt9E"
   },
   "source": [
    "### 0.2: The Sharp Spark\n",
    "\n",
    "Now, connect your notebook to the EMR cluster you created. In the first cell, copy the link to the Master Public DNS specified in the setup document. You will need to add `http://` to the beginning of the address and the auth details to the end.\n",
    "\n",
    "For example, if my DNS (directly from the AWS EMR console) is `ec2-3-15-237-211.us-east-2.compute.amazonaws.com` my address would be,\n",
    "\n",
    "`http://ec2-3-15-237-211.us-east-2.compute.amazonaws.com -a cis545-livy -p password1 -t Basic_Access`\n",
    "\n",
    "Insert this in the `# TODO # below`. For our example, the cell would read,\n",
    "\n",
    "```\n",
    "%spark add -s spark_session -l python -u http://ec2-3-15-237-211.us-east-2.compute.amazonaws.com -a cis545-livy -p password1 -t Basic_Access\n",
    "```"
   ]
  },
  {
   "cell_type": "code",
   "execution_count": null,
   "metadata": {
    "colab": {
     "base_uri": "https://localhost:8080/",
     "height": 96,
     "referenced_widgets": [
      "da58142420294dfaa9942c0ea858a371",
      "2ea801cde9324a28a67ccb97486ca668",
      "298152f822d54e6d8e8e06c3c2cdaadb"
     ]
    },
    "id": "G9QbylT-jqX9",
    "outputId": "e6ac40e0-8dc8-4d21-8680-8b7dc76a78db"
   },
   "outputs": [
    {
     "name": "stdout",
     "output_type": "stream",
     "text": [
      "Starting Spark application\n"
     ]
    },
    {
     "data": {
      "text/html": [
       "<table>\n",
       "<tr><th>ID</th><th>YARN Application ID</th><th>Kind</th><th>State</th><th>Spark UI</th><th>Driver log</th><th>User</th><th>Current session?</th></tr><tr><td>0</td><td>application_1718225227529_0001</td><td>pyspark</td><td>idle</td><td><a target=\"_blank\" href=\"http://ip-172-31-61-66.ec2.internal:20888/proxy/application_1718225227529_0001/\">Link</a></td><td><a target=\"_blank\" href=\"http://ip-172-31-51-79.ec2.internal:8042/node/containerlogs/container_1718225227529_0001_01_000001/livy\">Link</a></td><td>None</td><td>✔</td></tr></table>"
      ],
      "text/plain": [
       "<IPython.core.display.HTML object>"
      ]
     },
     "metadata": {},
     "output_type": "display_data"
    },
    {
     "data": {
      "application/vnd.jupyter.widget-view+json": {
       "model_id": "da58142420294dfaa9942c0ea858a371",
       "version_major": 2,
       "version_minor": 0
      },
      "text/plain": [
       "FloatProgress(value=0.0, bar_style='info', description='Progress:', layout=Layout(height='25px', width='50%'),…"
      ]
     },
     "metadata": {},
     "output_type": "display_data"
    },
    {
     "name": "stdout",
     "output_type": "stream",
     "text": [
      "SparkSession available as 'spark'.\n"
     ]
    }
   ],
   "source": [
    "# TODO: Copy the line above, enter your Master Public DNS with the proper formatting and host, and update the password\n",
    "\n",
    "%spark add -s spark_session -l python -u http://ec2-52-23-222-228.compute-1.amazonaws.com -a cis545-livy -p pass -t Basic_Access"
   ]
  },
  {
   "cell_type": "code",
   "execution_count": null,
   "metadata": {
    "id": "QwKAHhQL0lf7"
   },
   "outputs": [],
   "source": [
    "# If you ever need to restart, you may need to...\n",
    "#%spark delete -s spark_session\n",
    "#OR just factory reset runtime under the runtime tab\n",
    "# %spark delete -s spark_session"
   ]
  },
  {
   "cell_type": "markdown",
   "metadata": {
    "id": "v1IQjUwNObb8"
   },
   "source": [
    "Enter your 8-digit Penn Key as an integer in the cell\n",
    "below. This will be used in the autograder.  **Please also update the cell below, with the same ID!**"
   ]
  },
  {
   "cell_type": "code",
   "execution_count": null,
   "metadata": {
    "id": "7zM20juwqqQF"
   },
   "outputs": [],
   "source": [
    "from penngrader.grader import *\n",
    "STUDENT_ID = 99999999"
   ]
  },
  {
   "cell_type": "code",
   "execution_count": null,
   "metadata": {
    "colab": {
     "base_uri": "https://localhost:8080/"
    },
    "id": "HMgOBR-7cpHe",
    "outputId": "630ffb2b-5db0-44f3-d6ab-9a81d1875524"
   },
   "outputs": [
    {
     "name": "stdout",
     "output_type": "stream",
     "text": [
      "Writing notebook-config.yaml\n"
     ]
    }
   ],
   "source": [
    "%%writefile config.yaml\n",
    "\n",
    "grader_api_url: 'https://23whrwph9h.execute-api.us-east-1.amazonaws.com/default/Grader23'\n",
    "grader_api_key: 'flfkE736fA6Z8GxMDJe2q8Kfk8UDqjsG3GVqOFOa'"
   ]
  },
  {
   "cell_type": "code",
   "execution_count": null,
   "metadata": {
    "colab": {
     "base_uri": "https://localhost:8080/"
    },
    "id": "V8Oo_5D7qoWp",
    "outputId": "5d95ec1f-0186-450f-af5b-bbe92918092b"
   },
   "outputs": [
    {
     "name": "stdout",
     "output_type": "stream",
     "text": [
      "PennGrader initialized with Student ID: 99999999\n",
      "\n",
      "Make sure this correct or we will not be able to store your grade\n"
     ]
    }
   ],
   "source": [
    "grader = PennGrader('config.yaml', 'cis5450_su25_HW3', STUDENT_ID, STUDENT_ID)"
   ]
  },
  {
   "cell_type": "markdown",
   "metadata": {
    "id": "Bfs-EQZUzF4j"
   },
   "source": [
    "Run the above cells to setup the autograder. Make sure to have set your 8 digit Penn ID in the cell above. It will also import all the modules you need for the homework.\n"
   ]
  },
  {
   "cell_type": "markdown",
   "metadata": {
    "id": "4nyAa0wn1XCD"
   },
   "source": [
    "## Step 1: Data Wrangling, Cleaning, and Shaping [32 pts]\n",
    "\n",
    "In this homework we will be working with two datasets - (1) LinkedIn data containing information on their users like education, experience, industry etc. (2) Stock price information of companies over a 10 year period (2000-2011) where these users have worked at.  \n",
    "\n",
    "\n",
    "The data you will use is stored in an S3 bucket, a cloud storage service. Below, with our help, you will download it onto the nodes of your [EMR cluster](https://docs.aws.amazon.com/emr/latest/ManagementGuide/emr-what-is-emr.html)."
   ]
  },
  {
   "cell_type": "markdown",
   "metadata": {
    "id": "Nf_ADEXnIK0b"
   },
   "source": [
    "### 1.1: The Stupendous Schema\n",
    "\n",
    "When loading data, Spark will try to infer its structure on its own. This process is faulty because Spark will sometimes infer the type incorrectly. Spark's ability to determine types is not reliable, thus you will need to define a schema for both the LinkedIn and Stock Prices Datasets.\n",
    "\n",
    "A schema is a description of the structure of data. In Spark, schemas are defined using a `StructType` object. This is a collection of data types, termed `StructField`'s, that specify the structure and variable type of each component of the dataset. For example, suppose we have the following simple JSON object,\n",
    "\n",
    "\n",
    "```\n",
    "{\n",
    " \"student_name\": \"Alpha Beta\",\n",
    " \"GPA\": 3.6,\n",
    " \"courses\": [\n",
    "    {\"department\": \"Computer and Information Science\",\n",
    "     \"course_id\": \"CIS 5450\",\n",
    "     \"semester\": \"Fall 2021\"},\n",
    "    {\"department\": \"Computer and Information Science\",\n",
    "     \"course_id\": \"CIS 5550\",\n",
    "     \"semester\": \"Fall 2021\"}\n",
    " ],\n",
    " \"grad_year\": 2023\n",
    " }\n",
    "```\n",
    "\n",
    "We would define its schema as follows,\n",
    "\n",
    "```       \n",
    "schema = StructType([\n",
    "           StructField(\"student_name\", StringType(), nullable=True),\n",
    "           StructField(\"GPA\", FloatType(), nullable=True),\n",
    "           StructField(\"courses\", ArrayType(\n",
    "                StructType([\n",
    "                  StructField(\"department\", StringType(), nullable=True),\n",
    "                  StructField(\"course_id\", StringType(), nullable=True),\n",
    "                  StructField(\"semester\", StringType(), nullable=True)\n",
    "                ])\n",
    "           ), nullable=True),\n",
    "           StructField(\"grad_year\", IntegerType(), nullable=True)\n",
    "         ])\n",
    "```\n",
    "\n",
    "\n",
    "Each `StructField` has the following structure: `(name, type, nullable)`. The `nullable` flag defines that the specified field may be empty. Your first task is to define the `schema` of `linkedin_small_real.json`. A smaller version of the JSON dataset can be found [here](https://drive.google.com/a/seas.upenn.edu/file/d/1yZ_0xz6uSJ8lAxhGzn2BVjCpDOjagcqb/view?usp=sharing). Look at how this json dataset looks, the fields and their types.\n",
    "\n",
    "\n",
    "\n",
    "You will now be defining an explicit schema for the `linkedin_small_real.json` dataset. We have defined most of the fields so you can compare how the schema looks with the JSON dataset. Your Task will be to define the schema for the following 3 fields - `name, experience, events`.\n",
    "\n",
    "Make sure to use `nullable=True` for all the fields as well as **store dates as a StringType()**.\n",
    "\n",
    "Note: There is also no grading cell for this step. But your JSON file won't load if it's wrong, so you have a way of testing. Hint: some fields may be nested\n",
    "\n"
   ]
  },
  {
   "cell_type": "code",
   "execution_count": null,
   "metadata": {
    "colab": {
     "base_uri": "https://localhost:8080/",
     "height": 17,
     "referenced_widgets": [
      "4ea694e87b95475d89acf15630cc7767",
      "afb7efcdb1c84bebb0ba3e0a6ff21185",
      "1b126fccb438410f80c8d3310dbb7b2b"
     ]
    },
    "id": "pL-Ps4KWIJ9e",
    "outputId": "c0db6ddd-8cc1-4262-ef2a-650a440c28f7"
   },
   "outputs": [
    {
     "data": {
      "application/vnd.jupyter.widget-view+json": {
       "model_id": "4ea694e87b95475d89acf15630cc7767",
       "version_major": 2,
       "version_minor": 0
      },
      "text/plain": [
       "FloatProgress(value=0.0, bar_style='info', description='Progress:', layout=Layout(height='25px', width='50%'),…"
      ]
     },
     "metadata": {},
     "output_type": "display_data"
    }
   ],
   "source": [
    "%%spark\n",
    "\n",
    "from pyspark.sql.types import *\n",
    "\n",
    "# TODO: Finish defining the linkedin_small_real.json schema\n",
    "# We've provided most of the fiddly details, but you'll\n",
    "# need to fill in **name**, ** experience ** and **events** fields!\n",
    "\n",
    "schema = StructType([\n",
    "    StructField(\"_id\", StringType(), nullable=True),\n",
    "\n",
    "    StructField(\"education\", ArrayType(\n",
    "        StructType([\n",
    "          StructField(\"start\", StringType(), nullable=True),\n",
    "          StructField(\"major\", StringType(), nullable=True),\n",
    "          StructField(\"end\", StringType(), nullable=True),\n",
    "          StructField(\"name\", StringType(), nullable=True),\n",
    "          StructField(\"degree\", StringType(), nullable=True),\n",
    "          StructField(\"desc\", StringType(), nullable=True)\n",
    "    ])), nullable=True),\n",
    "\n",
    "    StructField(\"group\", StructType([\n",
    "          StructField(\"affilition\", ArrayType(StringType()), nullable=True),\n",
    "          StructField(\"member\", StringType(), nullable=True)\n",
    "    ]), nullable=True),\n",
    "\n",
    "    StructField(\"locality\", StringType(), nullable=True),\n",
    "    StructField(\"skills\", ArrayType(StringType()), nullable=True),\n",
    "    StructField(\"industry\", StringType(), nullable=True),\n",
    "    StructField(\"interval\", IntegerType(), nullable=True),\n",
    "\n",
    "    StructField(\"summary\", StringType(), nullable=True),\n",
    "    StructField(\"interests\", StringType(), nullable=True),\n",
    "    StructField(\"overview_html\", StringType(), nullable=True),\n",
    "    StructField(\"specilities\", StringType(), nullable=True),\n",
    "    StructField(\"homepage\", ArrayType(StringType()), nullable=True),\n",
    "    StructField(\"honors\", ArrayType(StringType()), nullable=True),\n",
    "    StructField(\"url\", StringType(), nullable=True),\n",
    "    StructField(\"also_view\", ArrayType(\n",
    "      StructType([\n",
    "          StructField(\"id\", StringType(), nullable=True),\n",
    "          StructField(\"url\", StringType(), nullable=True)\n",
    "      ])\n",
    "    ), nullable=True),\n",
    "\n",
    "\n",
    "    # TODO: fill in the necessary structure for name\n",
    "\n",
    "    # TODO: fill in the necessary structure for experience\n",
    "\n",
    "    # TODO: fill in the necessary structure for events\n",
    "\n",
    "\n",
    "])"
   ]
  },
  {
   "cell_type": "markdown",
   "metadata": {
    "id": "2Su604X9ggc2"
   },
   "source": [
    "### 1.2: The Langorous Load [4 Pts]"
   ]
  },
  {
   "cell_type": "markdown",
   "metadata": {
    "id": "7HKduWNmkxt0"
   },
   "source": [
    "#### 1.2.1: Load LinkedIn Dataset [4 Pts]\n",
    "\n",
    "In the following cell, you will load the `linkedin_small_real.json` dataset from your S3 bucket into a Spark dataframe (sdf) called `linkedin_data_sdf`. If you have constructed `schema` correctly then `spark.read.json()` will read in the dataset. ***You do not need to edit this cell***.\n",
    "\n",
    "If this doesn't work, go back to the prior cell and update your `schema`!\n",
    "\n",
    "Note that the cell below will load data even if your schema is incomplete and has left out some columns of the data, so be sure to check that you have included all of the fields from the JSON."
   ]
  },
  {
   "cell_type": "code",
   "execution_count": null,
   "metadata": {
    "colab": {
     "base_uri": "https://localhost:8080/",
     "height": 17,
     "referenced_widgets": [
      "66e0bd5d863040e9b2d9626e6c4976da",
      "d7501443931f45e497690cfb506808d8",
      "3a9fe3effee14a57b25fe9a163cb8cba"
     ]
    },
    "id": "Tcpx-SExfyJa",
    "outputId": "14eef9fc-a628-4f85-ede0-6a81cca4ae5e"
   },
   "outputs": [
    {
     "data": {
      "application/vnd.jupyter.widget-view+json": {
       "model_id": "66e0bd5d863040e9b2d9626e6c4976da",
       "version_major": 2,
       "version_minor": 0
      },
      "text/plain": [
       "FloatProgress(value=0.0, bar_style='info', description='Progress:', layout=Layout(height='25px', width='50%'),…"
      ]
     },
     "metadata": {},
     "output_type": "display_data"
    }
   ],
   "source": [
    "%%spark\n",
    "\n",
    "linkedin_data_sdf = spark.read.json(\"s3a://penn-cis545-files/linkedin_small_real.json\", schema=schema)"
   ]
  },
  {
   "cell_type": "code",
   "execution_count": null,
   "metadata": {
    "id": "eAgWjMU3ikD_"
   },
   "outputs": [],
   "source": [
    "%%spark\n",
    "# Let's print out the first few rows to see how the data looks like in tabular form\n",
    "linkedin_data_sdf.show(5)"
   ]
  },
  {
   "cell_type": "code",
   "execution_count": null,
   "metadata": {
    "colab": {
     "base_uri": "https://localhost:8080/",
     "height": 17,
     "referenced_widgets": [
      "4e914e248d014bc6962c488328046e73",
      "c7e5d9ecb41c408f8a1050154ee88a51",
      "c08745a860124e6d8bf8552b364fe73f",
      "f531803630bb44c9847a6a7aea07d956",
      "54c1dcfbeb934eb3b7cd26b2bd4cb579",
      "c6976dc3f5ce486888233c072e4be036"
     ]
    },
    "id": "3BZy-GrQSJ17",
    "outputId": "f90da700-1eb9-4093-a482-074c43983b34"
   },
   "outputs": [
    {
     "data": {
      "application/vnd.jupyter.widget-view+json": {
       "model_id": "4e914e248d014bc6962c488328046e73",
       "version_major": 2,
       "version_minor": 0
      },
      "text/plain": [
       "FloatProgress(value=0.0, bar_style='info', description='Progress:', layout=Layout(height='25px', width='50%'),…"
      ]
     },
     "metadata": {},
     "output_type": "display_data"
    },
    {
     "data": {
      "application/vnd.jupyter.widget-view+json": {
       "model_id": "f531803630bb44c9847a6a7aea07d956",
       "version_major": 2,
       "version_minor": 0
      },
      "text/plain": [
       "FloatProgress(value=0.0, bar_style='info', description='Progress:', layout=Layout(height='25px', width='50%'),…"
      ]
     },
     "metadata": {},
     "output_type": "display_data"
    }
   ],
   "source": [
    "%spark -o linkedin_data_sdf"
   ]
  },
  {
   "cell_type": "code",
   "execution_count": null,
   "metadata": {
    "colab": {
     "base_uri": "https://localhost:8080/"
    },
    "id": "pZBRzS0XSd05",
    "outputId": "1d17ff0f-d639-44e2-e49b-9b0f2aa7b386"
   },
   "outputs": [
    {
     "data": {
      "text/plain": [
       "2500"
      ]
     },
     "execution_count": 13,
     "metadata": {},
     "output_type": "execute_result"
    }
   ],
   "source": [
    "len(linkedin_data_sdf)"
   ]
  },
  {
   "cell_type": "code",
   "execution_count": null,
   "metadata": {
    "id": "-jM-J264Sjn_"
   },
   "outputs": [],
   "source": [
    "linkedin_data_sdf.to_csv(\"linkedin_data.csv\")"
   ]
  },
  {
   "cell_type": "code",
   "execution_count": null,
   "metadata": {
    "id": "bInSBNq6Qvcp"
   },
   "outputs": [],
   "source": [
    "import pandas as pd"
   ]
  },
  {
   "cell_type": "markdown",
   "metadata": {
    "id": "jMVCVotcE1wv"
   },
   "source": [
    "The cell below shows how to run SQL commands on Spark tables. **Use this as a template for all your SQL queries in this notebook.**\n",
    "\n",
    "For almost all the questions you will need to create a temporary view using `createOrReplaceTempView`, then write your sql `query` as a string and then run the query on spark using `spark.sql(query)`. To see what your query resulted use `.show()`.\n",
    "\n",
    "***You do not need to edit this cell***."
   ]
  },
  {
   "cell_type": "code",
   "execution_count": null,
   "metadata": {
    "id": "7CnbKKqtnicU"
   },
   "outputs": [],
   "source": [
    "%%spark\n",
    "\n",
    "\n",
    "# Create SQL-accesible table\n",
    "linkedin_data_sdf.createOrReplaceTempView(\"linkedin_data\")\n",
    "\n",
    "# Declare SQL query to be excecuted\n",
    "query = '''SELECT *\n",
    "           FROM linkedin_data\n",
    "           ORDER BY _id\n",
    "           LIMIT 10'''\n",
    "\n",
    "# Save the output sdf of spark.sql() as answer_sdf\n",
    "answer_sdf = spark.sql(query)\n",
    "answer_sdf.show()\n"
   ]
  },
  {
   "cell_type": "markdown",
   "metadata": {
    "id": "MLF-swRBTuZG"
   },
   "source": [
    "We can then copy the `answer_sdf` to Colab to submit to PennGrader...\n",
    "\n",
    "**Note:** double check all the data types of the fields defined for your schema in 1.1. Do not just assume that everything is a string!"
   ]
  },
  {
   "cell_type": "code",
   "execution_count": null,
   "metadata": {
    "id": "2z-mDBTorcX6"
   },
   "outputs": [],
   "source": [
    "#Convert to Pandas\n",
    "%spark -o answer_sdf"
   ]
  },
  {
   "cell_type": "code",
   "execution_count": null,
   "metadata": {
    "id": "z5T4kv0jpPLU"
   },
   "outputs": [],
   "source": [
    "## AUTOGRADER\n",
    "grader.grade(test_case_id = 'test_schema_linkedin', answer = answer_sdf)"
   ]
  },
  {
   "cell_type": "markdown",
   "metadata": {
    "id": "2mklaTWekqqX"
   },
   "source": [
    "#### 1.2.2: SQL refresher [3 Pts]\n"
   ]
  },
  {
   "cell_type": "markdown",
   "metadata": {
    "id": "8YHQMRRUQ7IN"
   },
   "source": [
    "In the next cell, we want you to create `industry_family_name_df` to fetch the data from the `linkedin_data` table created above, returning rows with schema `(_id, industry, family_name)`. Remove all NULLs from the `family_name` and `industry` columns. Sort the columns by `_id, industry, family_name`, all ascending order.  Limit your sdf to 100 rows. Make sure to use the SQL template provided above.\n",
    "\n",
    "Hint: To access a field inside a json object in SQL you can use the following syntax: `parent_variable.child_variable`"
   ]
  },
  {
   "cell_type": "code",
   "execution_count": null,
   "metadata": {
    "id": "GfFqnST3f92P"
   },
   "outputs": [],
   "source": [
    "%%spark\n",
    "\n",
    "#TODO\n",
    "\n",
    "industry_family_name_df =\n"
   ]
  },
  {
   "cell_type": "code",
   "execution_count": null,
   "metadata": {
    "id": "YihUzsBVhv4Y"
   },
   "outputs": [],
   "source": [
    "#Convert to Pandas\n",
    "%spark -o industry_family_name_df"
   ]
  },
  {
   "cell_type": "code",
   "execution_count": null,
   "metadata": {
    "id": "NxoITZQkjUHi"
   },
   "outputs": [],
   "source": [
    "## AUTOGRADER\n",
    "grader.grade(test_case_id = 'test_industry_family_name_df', answer = industry_family_name_df)"
   ]
  },
  {
   "cell_type": "markdown",
   "metadata": {
    "id": "fZr-aE6mk1gJ"
   },
   "source": [
    "#### 1.2.3: Load Stock Prices Data [3 Pts]\n",
    "\n",
    "Just the way you created a schema for the LinkedIn dataset, now create a schema for the Stock Prices data. The schema should be relatively simple, compared to the LinkedIn schema. A tiny version of the data is [here](https://docs.google.com/spreadsheets/d/1TStiS-bwkCJR1w5rJ18QPlNe3SIK2Z8QS9gK6ltnjJQ/edit?usp=sharing) in csv format, so you can see what the types should be for the different fields (columns in the csv). Store the `Date` field as a String.\n"
   ]
  },
  {
   "cell_type": "code",
   "execution_count": null,
   "metadata": {
    "colab": {
     "base_uri": "https://localhost:8080/",
     "height": 17,
     "referenced_widgets": [
      "275b5e48fea947838dbaf687f7ada078",
      "43e25d9126654465b5fb9f9ce3f33788",
      "2e511cc414f24cfaa660e7611a642f52"
     ]
    },
    "id": "ur87js8m-fxh",
    "outputId": "d2c5e17b-deba-4276-c6bf-d5a94d062cad"
   },
   "outputs": [
    {
     "data": {
      "application/vnd.jupyter.widget-view+json": {
       "model_id": "275b5e48fea947838dbaf687f7ada078",
       "version_major": 2,
       "version_minor": 0
      },
      "text/plain": [
       "FloatProgress(value=0.0, bar_style='info', description='Progress:', layout=Layout(height='25px', width='50%'),…"
      ]
     },
     "metadata": {},
     "output_type": "display_data"
    }
   ],
   "source": [
    "%%spark\n",
    "\n",
    "from pyspark.sql.types import *\n",
    "\n",
    "# TODO\n",
    "\n",
    "stocks_schema = StructType([\n",
    "\n",
    "    StructField(\"Date\", StringType(), nullable=True),\n",
    "    StructField(\"Open\", DoubleType(), nullable=True),\n",
    "    StructField(\"High\", DoubleType(), nullable=True),\n",
    "    StructField(\"Low\", DoubleType(), nullable=True),\n",
    "    StructField(\"Close\", DoubleType(), nullable=True),\n",
    "    StructField(\"Volume\", IntegerType(), nullable=True),\n",
    "    StructField(\"OpenInt\", IntegerType(), nullable=True),\n",
    "    StructField(\"org\", StringType(), nullable=True),\n",
    "\n",
    "])\n"
   ]
  },
  {
   "cell_type": "markdown",
   "metadata": {
    "id": "V2K9lTJmBIQL"
   },
   "source": [
    "In the following cell, you will load the entire `stocks.csv` dataset from your S3 bucket into a Spark dataframe (sdf) called `stocks_sdf`. If you have constructed `schema` correctly then `spark.read.format(\"csv\")` will read in the dataset. **You do not need to edit this cell.**\n",
    "\n",
    "If this doesn't work, go back to the prior cell and update your schema!"
   ]
  },
  {
   "cell_type": "code",
   "execution_count": null,
   "metadata": {
    "colab": {
     "base_uri": "https://localhost:8080/",
     "height": 277,
     "referenced_widgets": [
      "13ca0201a31e40e88bff4c8ba29b6acf",
      "f82e905e95af4e7598eff9c5559c8e80",
      "73cf5696453744f8a835202c83506f1b"
     ]
    },
    "id": "9EujXqNi4JBA",
    "outputId": "b6e83997-e5a4-40e0-d677-478fc8e94e5b"
   },
   "outputs": [
    {
     "data": {
      "application/vnd.jupyter.widget-view+json": {
       "model_id": "13ca0201a31e40e88bff4c8ba29b6acf",
       "version_major": 2,
       "version_minor": 0
      },
      "text/plain": [
       "FloatProgress(value=0.0, bar_style='info', description='Progress:', layout=Layout(height='25px', width='50%'),…"
      ]
     },
     "metadata": {},
     "output_type": "display_data"
    },
    {
     "name": "stdout",
     "output_type": "stream",
     "text": [
      "+----------+------------------+------------------+------------------+------------------+--------+-------+---+\n",
      "|      Date|              Open|              High|               Low|             Close|  Volume|OpenInt|org|\n",
      "+----------+------------------+------------------+------------------+------------------+--------+-------+---+\n",
      "|1999-11-18|            30.713|            33.754|            27.002|29.701999999999998|66277506|      0|  A|\n",
      "|1999-11-19|            28.986|29.026999999999997|            26.872|27.256999999999998|16142920|      0|  A|\n",
      "|1999-11-22|            27.886|29.701999999999998|            27.044|29.701999999999998| 6970266|      0|  A|\n",
      "|1999-11-23|28.688000000000002|29.445999999999998|            27.002|            27.002| 6332082|      0|  A|\n",
      "|1999-11-24|27.083000000000002|            28.309|            27.002|            27.717| 5132147|      0|  A|\n",
      "|1999-11-26|            27.594|28.011999999999997|            27.509|            27.807| 1832635|      0|  A|\n",
      "|1999-11-29|            27.676|             28.65|             27.38|            28.432| 4317826|      0|  A|\n",
      "|1999-11-30|             28.35|            28.986|            27.634|             28.48| 4567146|      0|  A|\n",
      "|1999-12-01|             28.48|            29.324|28.273000000000003|            28.986| 3133746|      0|  A|\n",
      "|1999-12-02|29.531999999999996|            30.375|            29.155|29.785999999999998| 3252997|      0|  A|\n",
      "+----------+------------------+------------------+------------------+------------------+--------+-------+---+\n",
      "only showing top 10 rows"
     ]
    }
   ],
   "source": [
    "#Do not edit\n",
    "%%spark\n",
    "\n",
    "# Load stock data\n",
    "\n",
    "stocks_sdf = spark.read.format(\"csv\") \\\n",
    "              .option(\"header\", \"true\") \\\n",
    "              .schema(stocks_schema) \\\n",
    "              .load(\"s3a://penn-cis545-files/stocks.csv\")\n",
    "\n",
    "# Creates SQL-accesible table\n",
    "stocks_sdf.createOrReplaceTempView('stocks')\n",
    "\n",
    "# Display the first 10 rows\n",
    "query = '''SELECT *\n",
    "           FROM stocks'''\n",
    "answer_stocks_sdf = spark.sql(query)\n",
    "answer_stocks_sdf.show(10)"
   ]
  },
  {
   "cell_type": "code",
   "execution_count": null,
   "metadata": {
    "colab": {
     "base_uri": "https://localhost:8080/",
     "height": 17,
     "referenced_widgets": [
      "97a768ae010043a29cc88572abf3624c",
      "9edf572334f04975a48cdfbfd7329fe0",
      "beb48c9da03f416d8a6198a40d07bc1c",
      "11455cc6829d4fab949e5503896c90ee",
      "570cd656de1b4140bee17286ede8f9d8",
      "540f0c1c056745dbaa3853258223ae3a"
     ]
    },
    "id": "asw-MCygEomh",
    "outputId": "4036aa0f-3694-4ee5-9ed1-514a26896f01"
   },
   "outputs": [
    {
     "data": {
      "application/vnd.jupyter.widget-view+json": {
       "model_id": "97a768ae010043a29cc88572abf3624c",
       "version_major": 2,
       "version_minor": 0
      },
      "text/plain": [
       "FloatProgress(value=0.0, bar_style='info', description='Progress:', layout=Layout(height='25px', width='50%'),…"
      ]
     },
     "metadata": {},
     "output_type": "display_data"
    },
    {
     "data": {
      "application/vnd.jupyter.widget-view+json": {
       "model_id": "11455cc6829d4fab949e5503896c90ee",
       "version_major": 2,
       "version_minor": 0
      },
      "text/plain": [
       "FloatProgress(value=0.0, bar_style='info', description='Progress:', layout=Layout(height='25px', width='50%'),…"
      ]
     },
     "metadata": {},
     "output_type": "display_data"
    }
   ],
   "source": [
    "#Convert to Pandas\n",
    "%spark -o answer_stocks_sdf"
   ]
  },
  {
   "cell_type": "code",
   "execution_count": null,
   "metadata": {
    "id": "oiuqarXbl6W_"
   },
   "outputs": [],
   "source": [
    "## AUTOGRADER\n",
    "grader.grade(test_case_id = 'test_schema_stocks', answer = answer_stocks_sdf)"
   ]
  },
  {
   "cell_type": "markdown",
   "metadata": {
    "id": "RHgctGpdmq-w"
   },
   "source": [
    "#### 1.2.4: Calculate Percentage Change [4 Pts]"
   ]
  },
  {
   "cell_type": "markdown",
   "metadata": {
    "id": "28apymFC3kM5"
   },
   "source": [
    "In the next cell, we want you to display the percentage change in the daily stock prices for each organization. In order to do so, we will need the data from the `stocks_sdf` table created above. Create a new column called `percentage_change` that uses the opening and closing stock prices for each organization, for each day, and calculates the percentage change in the stock price as follows:\n",
    "\n",
    "\\begin{align}\n",
    "percentage\\_change = \\frac{close-open}{open}*100.0\n",
    "\\end{align}\n",
    "\n",
    "In order to avoid nulls, calculate the percentage change for only for those organizations and days where the **opening price is NOT 0.0**. The percentage_change value is a float.\n",
    "\n",
    "Your final dataframe should include all columns of the original `stocks_sdf`, as well as the new column you create called `percentage_change`. Sort the rows by **Date and org** ascending, in that order."
   ]
  },
  {
   "cell_type": "code",
   "execution_count": null,
   "metadata": {
    "id": "0KiqR0K54Lvx"
   },
   "outputs": [],
   "source": [
    "%%spark\n",
    "\n",
    "#ToDo\n",
    "answer_sdf =\n"
   ]
  },
  {
   "cell_type": "code",
   "execution_count": null,
   "metadata": {
    "id": "L3BaoCHRPDTB"
   },
   "outputs": [],
   "source": [
    "#################     DO NOT EDIT      ##################\n",
    "%%spark\n",
    "answer_sdf.createOrReplaceTempView(\"test_1_2_4\")\n",
    "test_1_2_4_sdf = spark.sql(\"SELECT * FROM test_1_2_4 LIMIT 10\")"
   ]
  },
  {
   "cell_type": "code",
   "execution_count": null,
   "metadata": {
    "id": "L2H_mmMsPtB8"
   },
   "outputs": [],
   "source": [
    "#Convert to Pandas\n",
    "%spark -o test_1_2_4_sdf"
   ]
  },
  {
   "cell_type": "code",
   "execution_count": null,
   "metadata": {
    "id": "8GSFJnXTPjvf"
   },
   "outputs": [],
   "source": [
    "## AUTOGRADER\n",
    "grader.grade(test_case_id = 'test_perc_change', answer = test_1_2_4_sdf)"
   ]
  },
  {
   "cell_type": "markdown",
   "metadata": {
    "id": "Rh7UHTdnB-NJ"
   },
   "source": [
    "### 1.3: Cleaning LinkedIn Data"
   ]
  },
  {
   "cell_type": "markdown",
   "metadata": {
    "id": "zuiIGkuACIXy"
   },
   "source": [
    "#### 1.3.1: Adding Experience [6 Pts]"
   ]
  },
  {
   "cell_type": "markdown",
   "metadata": {
    "id": "Y0dWu9IRRXVq"
   },
   "source": [
    "In this part, we are interested in when individuals began working at a particular company.  When you created the schema, you might have noticed that the collection of companies an invidual worked at are contained in the `experience` field as an **array of dictionaries**. The company name is stored in the `org` field, and the start date is in the `start` field. Here is an example of an `experience` field:\n",
    "\n",
    "```\n",
    "{\n",
    "   \"experience\": [\n",
    "     {\n",
    "        \"org\": \"The Walt Disney Company\",\n",
    "        \"title\" : \"Mickey Mouse\",\n",
    "        \"end\" : \"Present\",\n",
    "        \"start\": \"November 1928\",\n",
    "        \"desc\": \"Sailed a boat.\"\n",
    "     },\n",
    "     {\n",
    "        \"org\": \"Walt Disney World Resort\",\n",
    "        \"title\": \"Mickey Mouse Mascot\",\n",
    "        \"start\": \"January 2005\",\n",
    "        \"desc\": \"Took pictures with kids.\"\n",
    "     }\n",
    "   ]\n",
    "}\n",
    "```\n",
    "\n",
    "Your task is to extract each pair of company and start date from these arrays. This is known as \"exploding\" a row in Spark. If you think about how we used relational data to model a nested list in a separate table -- that's basically what an explode does to the nested data within `linkedin`.\n",
    "\n",
    "Create an sdf called `raw_start_dates_sdf` that contains the company and start date for every experience of every individual in `linkedin_data_sdf`. Drop any row that contains a `null` in either column.\n",
    "\n",
    "```\n",
    "+--------------------------+---------------+\n",
    "|org                       |start_date     |\n",
    "+--------------------------+---------------+\n",
    "|Walt Disney World Resort  |January 2005   |\n",
    "|The Walt Disney Company   |November 1928  |\n",
    "|...                       |...            |\n",
    "+--------------------------+---------------+\n",
    "```\n",
    "\n",
    "_Hint_: Reference the [function list](https://spark.apache.org/docs/latest/api/python/reference/pyspark.sql/api/pyspark.sql.functions.explode.html).\n",
    "\n",
    "_Note_: Some of the entires in `org` are \"weird\", i.e. made up of non-english letters and characters. Keep them. **DO NOT** edit any name in the original dataframe unless we specify. **DO NOT** drop any row unless there is a `null` value as stated before. This goes for the rest of the homework as well, unless otherwise specified."
   ]
  },
  {
   "cell_type": "code",
   "execution_count": null,
   "metadata": {
    "id": "QbBet-PeoKVQ"
   },
   "outputs": [],
   "source": [
    "%%spark\n",
    "\n",
    "#ToDo\n",
    "\n",
    "raw_start_dates_sdf ="
   ]
  },
  {
   "cell_type": "code",
   "execution_count": null,
   "metadata": {
    "id": "TQ4z5YNRJszs"
   },
   "outputs": [],
   "source": [
    "#################     DO NOT EDIT      ##################\n",
    "%%spark\n",
    "raw_start_dates_sdf.createOrReplaceTempView(\"test_1_3_1\")\n",
    "test_1_3_1_sdf = spark.sql(\"SELECT * FROM test_1_3_1 ORDER BY org ASC, start_date DESC LIMIT 20\")"
   ]
  },
  {
   "cell_type": "code",
   "execution_count": null,
   "metadata": {
    "id": "nurW7BLKIUOO"
   },
   "outputs": [],
   "source": [
    "#Convert to Pandas\n",
    "%spark -o test_1_3_1_sdf"
   ]
  },
  {
   "cell_type": "code",
   "execution_count": null,
   "metadata": {
    "id": "LEDWWnGTs25a"
   },
   "outputs": [],
   "source": [
    "## AUTOGRADER\n",
    "grader.grade(test_case_id = 'test_pos_explode', answer = test_1_3_1_sdf)"
   ]
  },
  {
   "cell_type": "markdown",
   "metadata": {
    "id": "5EO58odiDCmf"
   },
   "source": [
    "#### 1.3.2: Filtering on Date [5 Pts]"
   ]
  },
  {
   "cell_type": "markdown",
   "metadata": {
    "id": "UhEm87LUSgEg"
   },
   "source": [
    "There are two issues with the values in our `start_date` column. First, the values are saved as strings, not datetime types. This halts us from running functions such as `ORDER BY` or `GROUP BY` on common months or years. Second, some values do not have both month and year information or are in other languages. Your task is to filter out and clean the `start_date` column. We are interested in only those rows that have date in the following format `\"(month_name) (year)\"`, e.g. \"October 2010\".\n",
    "\n",
    "Using `raw_start_dates_sdf`, create an sdf called `filtered_start_dates_sdf` with the `start_date` column filtered in the manner above. **Keep only those rows with a start date between January 2000 ('2000-01-01') to December 2011 ('2011-12-01'), inclusive**.  Ensure that any dates that are not in our desired format are omitted. Drop any row that contains a `null` in either column. The format of the sdf is shown below:\n",
    "```\n",
    "+--------------------------+---------------+\n",
    "|org                       |start_date     |\n",
    "+--------------------------+---------------+\n",
    "|Walt Disney World Resort  |2005-01-01     |\n",
    "|...                       |...            |\n",
    "+--------------------------+---------------+\n",
    "```\n",
    "_Hint_: Refer to the [function list](https://spark.apache.org/docs/latest/api/python/reference/pyspark.sql/functions.html) to format the `start_date` column. In Spark SQL the date format we are interested in is `\"MMM y\"`.\n",
    "\n",
    "_Note_: Spark will return the date in the format above, with the day as `01`. This is ok, since we are interested in the month and year each individual began working and all dates will have `01` as their day."
   ]
  },
  {
   "cell_type": "code",
   "execution_count": null,
   "metadata": {
    "id": "zUVzwaQNShj_"
   },
   "outputs": [],
   "source": [
    "%%spark\n",
    "\n",
    "#Do not remove the line below\n",
    "spark.sql(\"set spark.sql.legacy.timeParserPolicy=LEGACY\")\n",
    "\n",
    "#ToDo\n",
    "\n",
    "filtered_start_dates_sdf ="
   ]
  },
  {
   "cell_type": "code",
   "execution_count": null,
   "metadata": {
    "id": "R_uu7DgpORH-"
   },
   "outputs": [],
   "source": [
    "#################     DO NOT EDIT      ##################\n",
    "%%spark\n",
    "filtered_start_dates_sdf.createOrReplaceTempView(\"test_1_3_2\")\n",
    "test_1_3_2_sdf = spark.sql(\"SELECT * FROM ((SELECT org, DATE_FORMAT(start_date, 'yyyy-MM-dd') AS start_date FROM test_1_3_2 ORDER BY start_date DESC, org DESC LIMIT 10) UNION (SELECT org, DATE_FORMAT(start_date, 'yyyy-MM-dd') AS start_date FROM test_1_3_2 ORDER BY start_date ASC, org ASC LIMIT 10)) ORDER BY start_date ASC, org ASC\")"
   ]
  },
  {
   "cell_type": "code",
   "execution_count": null,
   "metadata": {
    "id": "Xdlr-ScTtuMg"
   },
   "outputs": [],
   "source": [
    "#Convert to Pandas\n",
    "%spark -o test_1_3_2_sdf"
   ]
  },
  {
   "cell_type": "code",
   "execution_count": null,
   "metadata": {
    "id": "RDor1THwspT2"
   },
   "outputs": [],
   "source": [
    "## AUTOGRADER\n",
    "grader.grade(test_case_id = 'test_linkedin_date', answer = test_1_3_2_sdf)"
   ]
  },
  {
   "cell_type": "markdown",
   "metadata": {
    "id": "FrBN2Np7GWdW"
   },
   "source": [
    "### 1.4: Cleaning Stock Data"
   ]
  },
  {
   "cell_type": "markdown",
   "metadata": {
    "id": "m3o0JjdzaEkG"
   },
   "source": [
    "#### 1.4.1: Adding Company Names [2 Pts]"
   ]
  },
  {
   "cell_type": "markdown",
   "metadata": {
    "id": "oJnNlV4FGkF2"
   },
   "source": [
    "In part 4 of this homework, we have to merge the stocks and linkedin dataframes. This would be difficult to do directly, as the companies in our stock dataset are defined by their stock tickers instead of the full names. Thus, we would not be able to merge it with the `org` field in `hire_train_sdf`. We must convert them to that format. For this purpose, we can create a user-defined function (udf) to achieve the mentioned conversion.\n",
    "\n",
    "A udf is defined as a normal Python function and then registered to be used as a Spark SQL function. Your task is to create a udf, `TICKER_TO_NAME()` that will convert the ticker field in `raw_stocks` to the company's name. This will be done using the provided `ticker_to_name_dict` dictionary. We are only interested in the companies in that dictionary. If the ticker value isn't in the table, set it to a string equal to \"None\". Do not hardcode this.\n",
    "\n",
    "Fill out the function `ticker_to_name()` below. Then use `spark.udf.register()` to register it as a SQL function. The command is provided. ***You do not need to edit it***. Note, we have defined the udf as returning `StringType()`. Ensure that your function returns this. You must also deal with any potential `null` cases.\n",
    "\n"
   ]
  },
  {
   "cell_type": "code",
   "execution_count": null,
   "metadata": {
    "id": "12YNSVD2GwcM"
   },
   "outputs": [],
   "source": [
    "%%spark\n",
    "\n",
    "# Dictionary linking stock ticker symbols to their names\n",
    "ticker_to_name_dict = {'NOK': 'Nokia',\n",
    "                       'UN': 'Unilever',\n",
    "                       'BP': 'BP',\n",
    "                       'JNJ': 'Johnson & Johnson',\n",
    "                       'TCS': 'Tata Consultancy Services',\n",
    "                       'SLB': 'Schlumberger',\n",
    "                       'NVS': 'Novartis',\n",
    "                       'CNY': 'Huawei',\n",
    "                       'PFE': 'Pfizer',\n",
    "                       'ACN': 'Accenture',\n",
    "                       'DELL': 'Dell',\n",
    "                       'MS': 'Morgan Stanley',\n",
    "                       'ORCL': 'Oracle',\n",
    "                       'BAC': 'Bank of America',\n",
    "                       'PG': 'Procter & Gamble',\n",
    "                       'CGEMY': 'Capgemini',\n",
    "                       'GS': 'Goldman Sachs',\n",
    "                       'C': 'Citi',\n",
    "                       'IBM': 'IBM',\n",
    "                       'CS': 'Credit Suisse',\n",
    "                       'MDLZ': 'Kraft Foods',\n",
    "                       'WIT': 'Wipro Technologies',\n",
    "                       'CSCO': 'Cisco Systems',\n",
    "                       'PWC': 'PwC',\n",
    "                       'GOOGL': 'Google',\n",
    "                       'CTSH': 'Cognizant Technology Solutions',\n",
    "                       'HSBC': 'HSBC',\n",
    "                       'DB': 'Deutsche Bank',\n",
    "                       'MSFT': 'Microsoft',\n",
    "                       'HPE': 'Hewlett-Packard',\n",
    "                       'ERIC': 'Ericsson',\n",
    "                       'BCS': 'Barclays Capital',\n",
    "                       'GSK': 'GlaxoSmithKline'}\n",
    "\n",
    "# TODO: Fill out [ticker_to_name()] and register it as a udf.\n",
    "\n",
    "\n",
    "def ticker_to_name(ticker):\n",
    "    #TODO\n",
    "\n",
    "\n",
    "# Register udf as a SQL function. DO NOT EDIT\n",
    "spark.udf.register(\"TICKER_TO_NAME\", ticker_to_name, StringType())\n"
   ]
  },
  {
   "cell_type": "code",
   "execution_count": null,
   "metadata": {
    "id": "eL5VjvlqRcu7"
   },
   "outputs": [],
   "source": [
    "#################     DO NOT EDIT      ##################\n",
    "%%spark\n",
    "\n",
    "ticker_to_name = [((str(ticker_to_name(\"GOOGL\")),str(ticker_to_name(\"TSLA\"))))]\n",
    "columns = ['A', 'B']\n",
    "dataframe = spark.createDataFrame(ticker_to_name, columns)"
   ]
  },
  {
   "cell_type": "code",
   "execution_count": null,
   "metadata": {
    "id": "hv4l324Lv0mD"
   },
   "outputs": [],
   "source": [
    "#Convert to Pandas\n",
    "%spark -o dataframe"
   ]
  },
  {
   "cell_type": "code",
   "execution_count": null,
   "metadata": {
    "id": "v8DiBMTLuhkq"
   },
   "outputs": [],
   "source": [
    "## AUTOGRADER\n",
    "grader.grade(test_case_id = 'test_ticker_name', answer = dataframe)"
   ]
  },
  {
   "cell_type": "markdown",
   "metadata": {
    "id": "ppX3QrfbHh5T"
   },
   "source": [
    "#### 1.4.2: Wrangling stocks data [5 Pts]"
   ]
  },
  {
   "cell_type": "markdown",
   "metadata": {
    "id": "vmYUW763Hjt-"
   },
   "source": [
    "We can now begin to wrangle `stocks_sdf` with our new `TICKER_TO_NAME()` function.\n",
    "\n",
    "Create an sdf called `filter_1_stocks_sdf` as follows. Convert all the ticker names in `stocks_sdf` to the company names and save it as `org`. Next, convert the `date` field to a datetime type. As explained before this will help order and group the rows in future steps.\n",
    "\n",
    "Drop any company names that do not appear in `ticker_to_name_dict`. **Keep any date between January 1st 2001 ('2001-01-01') and December 4th 2012 ('2012-12-04') inclusive**, in the format shown below (note this is a datetime object not a string):\n",
    "\n",
    "```\n",
    "+----+------------+--------------+\n",
    "|org |date        |Close         |\n",
    "+----+------------+--------------+\n",
    "|IBM |2000-01-03  |...           |\n",
    "|... |...         |...           |\n",
    "+----+------------+--------------+\n",
    "```\n",
    "_Hint_: You will use a similar function to filter the dates as in Step 1.3.2. In Spark SQL the format for the `date` field in `stocks_sdf` is `\"yyyy-MM-dd\"`."
   ]
  },
  {
   "cell_type": "markdown",
   "metadata": {
    "id": "twIP_3TjSNN0"
   },
   "source": []
  },
  {
   "cell_type": "code",
   "execution_count": null,
   "metadata": {
    "id": "5NUYUs0tHzqf"
   },
   "outputs": [],
   "source": [
    "%%spark\n",
    "\n",
    "# TODO\n",
    "\n",
    "filter_1_stocks_sdf ="
   ]
  },
  {
   "cell_type": "code",
   "execution_count": null,
   "metadata": {
    "id": "6eMbPVPKOk8l"
   },
   "outputs": [],
   "source": [
    "#################     DO NOT EDIT      ##################\n",
    "%%spark\n",
    "filter_1_stocks_sdf.createOrReplaceTempView(\"test_1_4_2\")\n",
    "test_1_4_2_sdf = spark.sql(\"SELECT * FROM ((SELECT org, DATE_FORMAT(date, 'yyyy-MM-dd') as date, Close FROM test_1_4_2 ORDER BY date DESC, org DESC LIMIT 10) UNION (SELECT org, DATE_FORMAT(date, 'yyyy-MM-dd') as date, Close FROM test_1_4_2 ORDER BY date ASC, org ASC LIMIT 10)) ORDER BY date ASC, org DESC\")"
   ]
  },
  {
   "cell_type": "code",
   "execution_count": null,
   "metadata": {
    "id": "GxINfYn_Tg6s"
   },
   "outputs": [],
   "source": [
    "#Convert to Pandas\n",
    "%spark -o test_1_4_2_sdf"
   ]
  },
  {
   "cell_type": "code",
   "execution_count": null,
   "metadata": {
    "id": "YBaX4eB_1wct"
   },
   "outputs": [],
   "source": [
    "## AUTOGRADER\n",
    "grader.grade(test_case_id = 'test_stock_date', answer = test_1_4_2_sdf)"
   ]
  },
  {
   "cell_type": "markdown",
   "metadata": {
    "id": "FjugB9CnImV1"
   },
   "source": [
    "## Step 2: Analysis on LinkedIn Data [12 pts]"
   ]
  },
  {
   "cell_type": "markdown",
   "metadata": {
    "id": "76Z2GuCsJj13"
   },
   "source": [
    "### 2.1: Counting Employees [2 Pts]"
   ]
  },
  {
   "cell_type": "markdown",
   "metadata": {
    "id": "niXSeOqAJ6Vc"
   },
   "source": [
    "Now we would like to find for each company, the number of individuals who started in the same month and year. Use `filtered_start_dates_sdf` and create a new sdf called `start_dates_sdf` which will contain the total number of employees who began working at the same company on the same start date (name the new column as `num_employees`). The format of the sdf is shown below:\n",
    "\n",
    "```\n",
    "+--------------------------+---------------+---------------+\n",
    "|org                       |start_date     |num_employees  |\n",
    "+--------------------------+---------------+---------------+\n",
    "|Walt Disney World Resort  |2005-01-01     |1              |\n",
    "|...                       |...            |...            |\n",
    "+--------------------------+---------------+---------------+\n",
    "```"
   ]
  },
  {
   "cell_type": "code",
   "execution_count": null,
   "metadata": {
    "id": "VZyAqiO9JlZZ"
   },
   "outputs": [],
   "source": [
    "%%spark\n",
    "\n",
    "# TODO:\n",
    "\n",
    "start_dates_sdf =\n",
    "\n"
   ]
  },
  {
   "cell_type": "code",
   "execution_count": null,
   "metadata": {
    "id": "ESjsTaKLWS-6"
   },
   "outputs": [],
   "source": [
    "#################     DO NOT EDIT      ##################\n",
    "%%spark\n",
    "\n",
    "start_dates_sdf.createOrReplaceTempView(\"test_2_1\")\n",
    "test_2_1_sdf = spark.sql(\"SELECT org, DATE_FORMAT(start_date, 'yyyy-MM-dd') as start_date, num_employees FROM test_2_1 ORDER BY num_employees DESC, org DESC, start_date ASC LIMIT 10\")"
   ]
  },
  {
   "cell_type": "code",
   "execution_count": null,
   "metadata": {
    "id": "xP5l8ztdWhhv"
   },
   "outputs": [],
   "source": [
    "#Convert to Pandas\n",
    "%spark -o test_2_1_sdf"
   ]
  },
  {
   "cell_type": "code",
   "execution_count": null,
   "metadata": {
    "id": "B4HKNoWdLgUm"
   },
   "outputs": [],
   "source": [
    "## AUTOGRADER\n",
    "grader.grade(test_case_id = 'test_num_employees', answer = test_2_1_sdf)"
   ]
  },
  {
   "cell_type": "markdown",
   "metadata": {
    "id": "yBhHq0gRKEiX"
   },
   "source": [
    "### 2.2: Reshape DataFrame [7 Pts]"
   ]
  },
  {
   "cell_type": "markdown",
   "metadata": {
    "id": "DwQGo8a2KWEK"
   },
   "source": [
    "Our next step is to use `start_dates_sdf` and create a new sdf called `raw_hire_train_sdf` that has for a single company and a single year, the number of hires in Jan through Dec, as well as the total number of hires that year (name it `total_num`). Note that for each company you will have several rows corresponding to years between 2000 and 2011. It is alright if for a given company you don't have a given year. However, ensure that for a given company and given year, each month column has an entry, i.e. if no one was hired the value should be `0`.  \n",
    "\n",
    "_Note_: We will use the first three letters of each month in naming, i.e. `jan, feb, mar, apr, may, jun, jul, aug, sep, oct, nov, dec`.\n",
    "\n",
    "The format of the `raw_hire_train_sdf` is shown below:\n",
    "\n",
    "```\n",
    "+----+-----+----------+---------+----------+----------+\n",
    "|org |year |jan_hired |   ...   |dec_hired |total_num |\n",
    "+----+-----+----------+---------+----------+----------+\n",
    "|IBM |2008 |...       |   ...   |...       |...       |\n",
    "|IBM |2009 |...       |   ...   |...       |...       |\n",
    "|... |...  |...       |   ...   |...       |...       |\n",
    "+----+-----+----------+---------+----------+----------+\n",
    "```\n"
   ]
  },
  {
   "cell_type": "code",
   "execution_count": null,
   "metadata": {
    "id": "8bdXbMWWI9MF"
   },
   "outputs": [],
   "source": [
    "%%spark\n",
    "\n",
    "# TODO:\n",
    "\n",
    "raw_hire_train_sdf =\n",
    "\n"
   ]
  },
  {
   "cell_type": "code",
   "execution_count": null,
   "metadata": {
    "id": "1X0W1uuZXnPW"
   },
   "outputs": [],
   "source": [
    "#################     DO NOT EDIT      ##################\n",
    "%%spark\n",
    "raw_hire_train_sdf.createOrReplaceTempView(\"test_2_2\")\n",
    "test_2_2_sdf = spark.sql(\"SELECT * FROM test_2_2 ORDER BY total_num DESC, org DESC, year ASC LIMIT 20\")"
   ]
  },
  {
   "cell_type": "code",
   "execution_count": null,
   "metadata": {
    "id": "2eZv6t05X22n"
   },
   "outputs": [],
   "source": [
    "#Convert to Pandas\n",
    "%spark -o test_2_2_sdf"
   ]
  },
  {
   "cell_type": "code",
   "execution_count": null,
   "metadata": {
    "id": "8qVILDHeNG7v"
   },
   "outputs": [],
   "source": [
    "## AUTOGRADER\n",
    "grader.grade(test_case_id = 'test_full_hired', answer = test_2_2_sdf)"
   ]
  },
  {
   "cell_type": "markdown",
   "metadata": {
    "id": "0UTtf0lBKsEE"
   },
   "source": [
    "### 2.3: Filtering on Company Size [3 Pts]"
   ]
  },
  {
   "cell_type": "markdown",
   "metadata": {
    "id": "KyS1QMJ9K2Xg"
   },
   "source": [
    "Create an sdf called `hire_train_sdf` that contains all the observations in `raw_hire_train_sdf` with `total_num` greater than or equal to 20."
   ]
  },
  {
   "cell_type": "code",
   "execution_count": null,
   "metadata": {
    "id": "4N_H11ETLNe2"
   },
   "outputs": [],
   "source": [
    "%%spark\n",
    "\n",
    "# TODO\n",
    "# Keep all rows where total_num >= 20\n",
    "\n",
    "hire_train_sdf ="
   ]
  },
  {
   "cell_type": "code",
   "execution_count": null,
   "metadata": {
    "id": "S7WT5TJY2Cl2"
   },
   "outputs": [],
   "source": [
    "#################     DO NOT EDIT      ##################\n",
    "%%spark\n",
    "hire_train_sdf.createOrReplaceTempView(\"test_2_3\")\n",
    "test_2_3_sdf = spark.sql(\"SELECT * FROM test_2_3 ORDER BY org ASC, year ASC LIMIT 10\")"
   ]
  },
  {
   "cell_type": "code",
   "execution_count": null,
   "metadata": {
    "id": "SHWFkECW2CrX"
   },
   "outputs": [],
   "source": [
    "#Convert to Pandas\n",
    "%spark -o test_2_3_sdf"
   ]
  },
  {
   "cell_type": "code",
   "execution_count": null,
   "metadata": {
    "id": "pQ9-jkP52CvM"
   },
   "outputs": [],
   "source": [
    "## AUTOGRADER\n",
    "grader.grade(test_case_id = 'test_sampled_hired', answer = test_2_3_sdf)"
   ]
  },
  {
   "cell_type": "markdown",
   "metadata": {
    "id": "Gof2K2iyLPju"
   },
   "source": [
    "## Step 3: Analyzing Stock Data [19 pts]"
   ]
  },
  {
   "cell_type": "markdown",
   "metadata": {
    "id": "2C4dRs7cLdz8"
   },
   "source": [
    "### 3.1: Average Closing Price [5 Pts]"
   ]
  },
  {
   "cell_type": "markdown",
   "metadata": {
    "id": "Il7RPOMuLfzg"
   },
   "source": [
    "The data in `filter_1_stocks_sdf` gives closing prices on a daily basis. Since we are interested in monthly trends, we will only keep the **average of the closing price of each month per year for each org**.\n",
    "\n",
    "Create an sdf `filter_2_stocks_sdf` that contains only the average of closing prices for each month-year pair sorted by the org alphabetically and then month, year from earliest to latest with the closing price rounded off to 3 decimal places. The format of the sdf is shown below:\n",
    "\n",
    "```\n",
    "+----+------------+--------------+--------------+\n",
    "|org |month       |year          |close         |\n",
    "+----+------------+--------------+--------------+\n",
    "|IBM |01          |2000          |...           |\n",
    "|... |...         |...           |...           |\n",
    "+----+------------+--------------+--------------+\n",
    "```\n",
    "\n",
    "**Hint:** Think about what sorting things chronologically from earliest to latest means. Is January 2006, January 2007, ... January 2012, February 2006, February 2007, ... really in chronological order? Does January 2007 actually come before February 2006?"
   ]
  },
  {
   "cell_type": "code",
   "execution_count": null,
   "metadata": {
    "id": "AezlvyLdPjLz"
   },
   "outputs": [],
   "source": [
    "%%spark\n",
    "\n",
    "# TODO\n",
    "\n",
    "filter_2_stocks_sdf ="
   ]
  },
  {
   "cell_type": "code",
   "execution_count": null,
   "metadata": {
    "id": "L_F2dFPbLunl"
   },
   "outputs": [],
   "source": [
    "#################     DO NOT EDIT      ##################\n",
    "%%spark\n",
    "filter_2_stocks_sdf.createOrReplaceTempView(\"test_3_1\")\n",
    "test_3_1_sdf = spark.sql(\"SELECT * FROM test_3_1 LIMIT 10\")"
   ]
  },
  {
   "cell_type": "code",
   "execution_count": null,
   "metadata": {
    "id": "QuHm860oWrRR"
   },
   "outputs": [],
   "source": [
    "#Convert to Pandas\n",
    "%spark -o test_3_1_sdf"
   ]
  },
  {
   "cell_type": "code",
   "execution_count": null,
   "metadata": {
    "id": "PdrOqReHW6Xl"
   },
   "outputs": [],
   "source": [
    "## AUTOGRADER\n",
    "grader.grade(test_case_id = 'test_summary', answer = test_3_1_sdf)"
   ]
  },
  {
   "cell_type": "markdown",
   "metadata": {
    "id": "Jx0pV9aXLteu"
   },
   "source": [
    "### 3.2: Reshape DataFrame Again! [8 Pts]"
   ]
  },
  {
   "cell_type": "markdown",
   "metadata": {
    "id": "wGrz4i0ElrHt"
   },
   "source": [
    "Now, we will begin to shape our dataframe into the format of the final training sdf.\n",
    "\n",
    "Create an sdf `filter_3_stocks_sdf` that has for a single company and a single year, the average stock price for each month in that year. This is similar to the table you created in Step 3.1. If the data is not avaliable, drop any rows containing any `null` values, in any column. The format of the sdf is shown below:\n",
    "\n",
    "```\n",
    "+----+-----+----------+---------+----------+\n",
    "|org |year |jan_stock |   ...   |dec_stock |\n",
    "+----+-----+----------+---------+----------+\n",
    "|IBM |2008 |...       |   ...   |...       |\n",
    "|IBM |2009 |...       |   ...   |...       |\n",
    "|... |...  |...       |   ...   |...       |\n",
    "+----+-----+----------+---------+----------+\n",
    "```\n"
   ]
  },
  {
   "cell_type": "code",
   "execution_count": null,
   "metadata": {
    "id": "ua1Roj3dMCLn"
   },
   "outputs": [],
   "source": [
    "%%spark\n",
    "\n",
    "#ToDo\n",
    "\n",
    "filter_3_stocks_sdf =\n"
   ]
  },
  {
   "cell_type": "code",
   "execution_count": null,
   "metadata": {
    "id": "kd94T-uUsO4K"
   },
   "outputs": [],
   "source": [
    "#################     DO NOT EDIT      ##################\n",
    "%%spark\n",
    "filter_3_stocks_sdf.createOrReplaceTempView(\"test_3_2\")\n",
    "test_3_2_sdf = spark.sql(\"SELECT * FROM test_3_2 ORDER BY org, year ASC LIMIT 10\")"
   ]
  },
  {
   "cell_type": "code",
   "execution_count": null,
   "metadata": {
    "id": "BlDHAk_2sO4L"
   },
   "outputs": [],
   "source": [
    "#Convert to Pandas\n",
    "%spark -o test_3_2_sdf"
   ]
  },
  {
   "cell_type": "code",
   "execution_count": null,
   "metadata": {
    "id": "_LdVqomdsO4L"
   },
   "outputs": [],
   "source": [
    "## AUTOGRADER\n",
    "grader.grade(test_case_id = 'test_ravel_sdf', answer = test_3_2_sdf)\n"
   ]
  },
  {
   "cell_type": "markdown",
   "metadata": {
    "id": "cvfNnKKWMPKT"
   },
   "source": [
    "## 3.3: Direction of Change (Optional)\n",
    "\n",
    "\n",
    "\n"
   ]
  },
  {
   "cell_type": "markdown",
   "metadata": {
    "id": "zexvWfC2ML94"
   },
   "source": [
    "\n",
    "\n",
    "\n",
    "*This is an optional section, your final score in this homework will not be affected by your performance here. Sample working code is already provided.*\n",
    "\n",
    "***However, make sure to run it as we will need to use the results later!***\n",
    "\n",
    "The final element in our training set is the binary output for each case, i.e. the `y` label.\n",
    "\n",
    "Create an sdf `stocks_train_sdf` from `filter_3_stocks_sdf` with an additional column `direction`. This should be the direction of percentage change in the closing stock price, i.e. `1` for positive or `-1` for negative, from the first month of a given year to the last month of the given year. Make this an **integer**.  The year begins in January and ends in December, inclusive. The format of the sdf is shown below:\n",
    "\n",
    "```\n",
    "+----+-----+----------+---------+----------+-------------+\n",
    "|org |year |jan_stock |   ...   |dec_stock |direction    |\n",
    "+----+-----+----------+---------+----------+-------------+\n",
    "|IBM |2008 |...       |   ...   |...       |1            |\n",
    "|IBM |2009 |...       |   ...   |...       |-1           |\n",
    "|... |...  |...       |   ...   |...       |...          |\n",
    "+----+-----+----------+---------+----------+-------------+\n",
    "```"
   ]
  },
  {
   "cell_type": "code",
   "execution_count": null,
   "metadata": {
    "colab": {
     "base_uri": "https://localhost:8080/",
     "height": 451,
     "referenced_widgets": [
      "21f6c61711344948a7312fe88e0dba93",
      "24269e69586e4c8ca75d7e253a919767",
      "6da50f0930344115bf6adc5bc4289427"
     ]
    },
    "id": "dE1z8nrBtq0t",
    "outputId": "6244fbbd-d303-4e09-81e8-750b4e58a0d4"
   },
   "outputs": [
    {
     "data": {
      "application/vnd.jupyter.widget-view+json": {
       "model_id": "21f6c61711344948a7312fe88e0dba93",
       "version_major": 2,
       "version_minor": 0
      },
      "text/plain": [
       "FloatProgress(value=0.0, bar_style='info', description='Progress:', layout=Layout(height='25px', width='50%'),…"
      ]
     },
     "metadata": {},
     "output_type": "display_data"
    },
    {
     "name": "stdout",
     "output_type": "stream",
     "text": [
      "+---------------+----+---------+---------+---------+---------+---------+---------+---------+---------+---------+---------+---------+---------+---------+\n",
      "|            org|year|jan_stock|feb_stock|mar_stock|apr_stock|may_stock|jun_stock|jul_stock|aug_stock|sep_stock|oct_stock|nov_stock|dec_stock|direction|\n",
      "+---------------+----+---------+---------+---------+---------+---------+---------+---------+---------+---------+---------+---------+---------+---------+\n",
      "|      Accenture|2006|   26.098|   27.378|   26.787|   25.187|   24.343|   22.946|   24.066|   24.245|   24.995|   27.073|   28.732|   29.898|        1|\n",
      "|      Accenture|2007|   31.454|   32.581|   30.713|   32.814|   33.465|   35.021|   36.012|   34.198|   33.552|   33.995|    30.32|   30.331|       -1|\n",
      "|      Accenture|2008|   28.881|   29.558|   29.349|   31.939|   32.483|   33.654|   34.099|   34.725|     32.2|   26.978|   25.106|   25.652|       -1|\n",
      "|      Accenture|2009|   27.857|   26.419|   24.927|   23.716|   25.384|   26.733|   28.908|   30.164|   30.327|    32.45|   33.678|   35.516|        1|\n",
      "|      Accenture|2010|   36.051|   34.492|   35.498|   36.602|   33.878|   32.272|   33.497|   33.055|   34.135|   38.462|   37.769|   39.724|        1|\n",
      "|      Accenture|2011|   42.572|   44.553|   44.045|   47.592|   48.367|   48.271|   52.382|   45.912|   44.821|   49.554|   49.195|   48.254|        1|\n",
      "|      Accenture|2012|   47.313|   50.516|   54.251|   55.757|   52.218|   50.487|    51.48|   53.452|   56.877|   61.041|   59.464|   60.453|        1|\n",
      "|             BP|2006|   47.607|   46.719|   46.802|   50.167|   50.168|   46.519|    48.36|   47.883|   45.212|   45.593|   46.271|   46.442|       -1|\n",
      "|             BP|2007|    43.83|   43.135|   42.239|   46.186|   46.428|   47.274|   50.155|    45.35|   47.573|   50.586|   50.645|   50.738|        1|\n",
      "|             BP|2008|   46.457|   44.863|   43.211|   45.633|   50.329|   47.232|   43.508|   40.429|   36.575|   31.293|   31.715|   31.459|       -1|\n",
      "|             BP|2009|   30.597|   28.806|   26.405|   27.875|   32.239|   34.024|   33.168|   35.112|   36.968|   37.398|   40.113|   39.423|        1|\n",
      "|             BP|2010|   41.057|   37.215|   38.796|   40.131|   32.042|    21.98|   24.481|   25.949|   26.295|   28.169|   28.925|   29.707|       -1|\n",
      "|             BP|2011|   32.351|   32.269|    31.63|   31.544|   30.619|   29.965|   31.081|   28.035|   26.044|   28.186|   30.115|   29.931|       -1|\n",
      "|             BP|2012|   31.373|   33.247|   33.082|   30.666|   28.147|   27.852|   29.412|   30.641|    31.13|   30.909|   30.583|   30.413|       -1|\n",
      "|Bank of America|2001|   21.803|   21.893|   22.792|    23.42|   24.932|    26.36|   27.132|   27.787|   25.179|   25.662|    28.04|   28.138|        1|\n",
      "|Bank of America|2002|   27.998|   27.601|   30.778|   31.928|   34.105|    32.68|   30.083|   31.251|   30.598|   29.969|   32.033|    32.28|        1|\n",
      "|Bank of America|2003|   33.045|   32.122|    32.13|   33.866|   34.859|   36.757|   38.756|   37.809|   36.607|   37.497|   35.474|   36.551|        1|\n",
      "|Bank of America|2004|   37.704|   38.535|   38.023|   38.183|   38.101|   39.636|   39.857|   40.876|   41.545|   42.025|   43.634|   43.652|        1|\n",
      "|Bank of America|2005|   42.788|   43.855|   42.624|   42.103|    43.38|   43.684|   42.321|   40.819|   40.218|   40.024|   42.725|    43.72|        1|\n",
      "|Bank of America|2006|   42.826|   41.823|   43.461|   43.894|   46.376|   45.207|   46.746|   49.041|   49.219|   50.922|   51.244|   50.105|        1|\n",
      "+---------------+----+---------+---------+---------+---------+---------+---------+---------+---------+---------+---------+---------+---------+---------+\n",
      "only showing top 20 rows"
     ]
    }
   ],
   "source": [
    "#ToDo\n",
    "\n",
    "%%spark\n",
    "\n",
    "#ToDo\n",
    "filter_3_stocks_sdf.createOrReplaceTempView(\"filter_stocks_sdf_3\")\n",
    "query = '''SELECT *,\n",
    "                   CASE WHEN dec_stock>=jan_stock THEN 1 ELSE -1 END AS direction\n",
    "                   FROM filter_stocks_sdf_3\n",
    "'''\n",
    "\n",
    "stocks_train_sdf = spark.sql(query)\n",
    "stocks_train_sdf.show(20)"
   ]
  },
  {
   "cell_type": "code",
   "execution_count": null,
   "metadata": {
    "colab": {
     "base_uri": "https://localhost:8080/",
     "height": 17,
     "referenced_widgets": [
      "86d3c4c1dfed4e079b8bdef7b2a63571",
      "a392ce55f0fa4cdd8c4c9c90965b3652",
      "35a6a5e3c5ce4f04b832549a3b380bd3"
     ]
    },
    "id": "xKSknoxMtq0u",
    "outputId": "ae5e3d30-a0dc-4909-f9fa-b09dda40196e"
   },
   "outputs": [
    {
     "data": {
      "application/vnd.jupyter.widget-view+json": {
       "model_id": "86d3c4c1dfed4e079b8bdef7b2a63571",
       "version_major": 2,
       "version_minor": 0
      },
      "text/plain": [
       "FloatProgress(value=0.0, bar_style='info', description='Progress:', layout=Layout(height='25px', width='50%'),…"
      ]
     },
     "metadata": {},
     "output_type": "display_data"
    }
   ],
   "source": [
    "################# Do not edit\n",
    "%%spark\n",
    "stocks_train_sdf.createOrReplaceTempView(\"test_3_3\")\n",
    "test_3_3_sdf = spark.sql(\"SELECT * FROM test_3_3 ORDER BY org, year ASC LIMIT 10\")"
   ]
  },
  {
   "cell_type": "code",
   "execution_count": null,
   "metadata": {
    "colab": {
     "base_uri": "https://localhost:8080/",
     "height": 17,
     "referenced_widgets": [
      "1b6d3d09c7c847e5bd3415d0e1103bfe",
      "024a8d5cad4043469e9100564a41a657",
      "3eaac3c2f0e04e48b98420547bc1233b",
      "c2f4a77e15dc4cd99d16b1dd43451033",
      "e54cd419922741fbbd0a9dfd4c4c604b",
      "24ca25b0fb8f4d0c93e432deed9c5b37"
     ]
    },
    "id": "7IBswLWQtq0u",
    "outputId": "0755bbc2-714c-4ac5-dd59-e2c786d18531"
   },
   "outputs": [
    {
     "data": {
      "application/vnd.jupyter.widget-view+json": {
       "model_id": "1b6d3d09c7c847e5bd3415d0e1103bfe",
       "version_major": 2,
       "version_minor": 0
      },
      "text/plain": [
       "FloatProgress(value=0.0, bar_style='info', description='Progress:', layout=Layout(height='25px', width='50%'),…"
      ]
     },
     "metadata": {},
     "output_type": "display_data"
    },
    {
     "data": {
      "application/vnd.jupyter.widget-view+json": {
       "model_id": "c2f4a77e15dc4cd99d16b1dd43451033",
       "version_major": 2,
       "version_minor": 0
      },
      "text/plain": [
       "FloatProgress(value=0.0, bar_style='info', description='Progress:', layout=Layout(height='25px', width='50%'),…"
      ]
     },
     "metadata": {},
     "output_type": "display_data"
    }
   ],
   "source": [
    "#Convert to Pandas\n",
    "%spark -o test_3_3_sdf"
   ]
  },
  {
   "cell_type": "markdown",
   "metadata": {
    "id": "7jlODI-6WhtQ"
   },
   "source": [
    "# 3.4 Debugging PySpark"
   ]
  },
  {
   "cell_type": "markdown",
   "metadata": {
    "id": "W7j5Ke9D-RQB"
   },
   "source": [
    "While just writing code can be fun. PySpark involves the interaction of standard python with spark and may result in huge, hard to parse error logs. The goal of this section is to give you practice in debugging these error logs"
   ]
  },
  {
   "cell_type": "markdown",
   "metadata": {
    "id": "ZpUL0fZON9IF"
   },
   "source": [
    "## 3.4.1"
   ]
  },
  {
   "cell_type": "markdown",
   "metadata": {
    "id": "yuKp8_SZV5Oc"
   },
   "source": [
    "### Exploring Seasonality\n",
    "\n",
    "\n",
    "In this example we use the same stocks_sdf from before and examine Seasonality, an important step done in time series analysis.\n",
    "\n"
   ]
  },
  {
   "cell_type": "markdown",
   "metadata": {
    "id": "B482cMdYm_VA"
   },
   "source": [
    "This section calculates the average closing price and volume for each Month, Year combination, considering seasonality's impact on the data. We will explore various data exploration and transformation techniques, including trend analysis, seasonality identification, lag variables, and differencing. These techniques will be introduced in this section and further explored in subsequent sections using Spark.\n",
    "\n",
    "Some code here will throw errors and your job is to fix them!"
   ]
  },
  {
   "cell_type": "code",
   "execution_count": null,
   "metadata": {
    "colab": {
     "base_uri": "https://localhost:8080/",
     "height": 471,
     "referenced_widgets": [
      "65eaf091d4164ea4b6b1de15823c6adf",
      "997cc32883ab48f2b5670dfb8967451c",
      "b545fea45f01470db408fc6045b246e9"
     ]
    },
    "id": "9Zc1dog-zGMS",
    "outputId": "96aa5866-f8e7-4cbc-f2c2-65badef526d5"
   },
   "outputs": [
    {
     "data": {
      "application/vnd.jupyter.widget-view+json": {
       "model_id": "65eaf091d4164ea4b6b1de15823c6adf",
       "version_major": 2,
       "version_minor": 0
      },
      "text/plain": [
       "FloatProgress(value=0.0, bar_style='info', description='Progress:', layout=Layout(height='25px', width='50%'),…"
      ]
     },
     "metadata": {},
     "output_type": "display_data"
    },
    {
     "name": "stdout",
     "output_type": "stream",
     "text": [
      "+----------+------------------+------------------+------------------+------------------+--------+-------+---+----+-----+---------+\n",
      "|      Date|              Open|              High|               Low|             Close|  Volume|OpenInt|org|Year|Month|MonthYear|\n",
      "+----------+------------------+------------------+------------------+------------------+--------+-------+---+----+-----+---------+\n",
      "|1999-11-18|            30.713|            33.754|            27.002|29.701999999999998|66277506|      0|  A|1999|   11|  11-1999|\n",
      "|1999-11-19|            28.986|29.026999999999997|            26.872|27.256999999999998|16142920|      0|  A|1999|   11|  11-1999|\n",
      "|1999-11-22|            27.886|29.701999999999998|            27.044|29.701999999999998| 6970266|      0|  A|1999|   11|  11-1999|\n",
      "|1999-11-23|28.688000000000002|29.445999999999998|            27.002|            27.002| 6332082|      0|  A|1999|   11|  11-1999|\n",
      "|1999-11-24|27.083000000000002|            28.309|            27.002|            27.717| 5132147|      0|  A|1999|   11|  11-1999|\n",
      "|1999-11-26|            27.594|28.011999999999997|            27.509|            27.807| 1832635|      0|  A|1999|   11|  11-1999|\n",
      "|1999-11-29|            27.676|             28.65|             27.38|            28.432| 4317826|      0|  A|1999|   11|  11-1999|\n",
      "|1999-11-30|             28.35|            28.986|            27.634|             28.48| 4567146|      0|  A|1999|   11|  11-1999|\n",
      "|1999-12-01|             28.48|            29.324|28.273000000000003|            28.986| 3133746|      0|  A|1999|   12|  12-1999|\n",
      "|1999-12-02|29.531999999999996|            30.375|            29.155|29.785999999999998| 3252997|      0|  A|1999|   12|  12-1999|\n",
      "|1999-12-03|            30.336|            30.842|29.909000000000002|            30.039| 3223074|      0|  A|1999|   12|  12-1999|\n",
      "|1999-12-06|30.546999999999997|31.348000000000003|            30.505|30.883000000000003| 2385046|      0|  A|1999|   12|  12-1999|\n",
      "|1999-12-07|30.883000000000003|            31.052|29.909000000000002|30.546999999999997| 2348161|      0|  A|1999|   12|  12-1999|\n",
      "|1999-12-08|30.546999999999997|            30.795|30.249000000000002|            30.505| 2000481|      0|  A|1999|   12|  12-1999|\n",
      "|1999-12-09|30.546999999999997|31.011999999999997|30.546999999999997|            30.924| 2150096|      0|  A|1999|   12|  12-1999|\n",
      "|1999-12-10|            30.842|31.011999999999997|            30.209|            30.209| 1764043|      0|  A|1999|   12|  12-1999|\n",
      "|1999-12-13|            30.713|            31.221|29.958000000000002|            30.713| 4260349|      0|  A|1999|   12|  12-1999|\n",
      "|1999-12-14|            30.635|            30.635|            28.391|29.026999999999997| 2467856|      0|  A|1999|   12|  12-1999|\n",
      "|1999-12-15|             28.35|            28.561|            27.676|            28.142| 3091820|      0|  A|1999|   12|  12-1999|\n",
      "|1999-12-16|             28.35|            31.896|             28.35|            31.896| 2738063|      0|  A|1999|   12|  12-1999|\n",
      "+----------+------------------+------------------+------------------+------------------+--------+-------+---+----+-----+---------+\n",
      "only showing top 20 rows"
     ]
    }
   ],
   "source": [
    "%%spark\n",
    "from pyspark.sql.functions import month, year, avg,date_format,col,lag\n",
    "from pyspark.sql.window import Window\n",
    "\n",
    "stocks_sdf = stocks_sdf.withColumn(\"Year\", year(col(\"Date\")))\n",
    "stocks_sdf = stocks_sdf.withColumn(\"Month\", month(col(\"Date\")))\n",
    "\n",
    "stocks_sdf.show()"
   ]
  },
  {
   "cell_type": "code",
   "execution_count": null,
   "metadata": {
    "collapsed": true,
    "id": "PVsFGXgzE4hy"
   },
   "outputs": [],
   "source": [
    "%%spark\n",
    "\n",
    "monthly_analysis_sdf = stocks_sdf.agg(avg(\"Close\").alias(\"Avg_Close\"), avg(\"Volume\").alias(\"Avg_Volume\")) \\\n",
    "    .orderBy(\"Month\",\"Year\")"
   ]
  },
  {
   "cell_type": "code",
   "execution_count": null,
   "metadata": {
    "id": "AJwRzoaDNj0j"
   },
   "outputs": [],
   "source": [
    "%spark -o  monthly_analysis_sdf"
   ]
  },
  {
   "cell_type": "code",
   "execution_count": null,
   "metadata": {
    "id": "CL4K4tf_BlO0"
   },
   "outputs": [],
   "source": [
    "## AUTOGRADER\n",
    "grader.grade(test_case_id = 'monthly_analysis', answer = monthly_analysis_sdf)"
   ]
  },
  {
   "cell_type": "markdown",
   "metadata": {
    "id": "xAYfDRYPPr5P"
   },
   "source": [
    "In the code cell below we do further processing for time series processing. You do not need to make any changes. We will use this dataframe in the next section"
   ]
  },
  {
   "cell_type": "code",
   "execution_count": null,
   "metadata": {
    "id": "0eG6kLExFQTS"
   },
   "outputs": [],
   "source": [
    "%%spark\n",
    "# parition over year and order by month\n",
    "window_spec = Window.partitionBy(\"Year\").orderBy(\"Month\")\n",
    "# Compute the lag\n",
    "#correct\n",
    "monthly_avg_with_lag = monthly_analysis_sdf.withColumn(\"Prev_Avg_Close\", lag(\"Avg_Close\").over(window_spec))\n",
    "# Compute MoM differencing\n",
    "monthly_avg_with_lag_sdf = monthly_avg_with_lag.withColumn(\"Month_Diff\", col(\"Avg_Close\") - col(\"Prev_Avg_Close\"))\n",
    "monthly_avg_with_lag_sdf.show()"
   ]
  },
  {
   "cell_type": "code",
   "execution_count": null,
   "metadata": {
    "colab": {
     "base_uri": "https://localhost:8080/"
    },
    "id": "4tDher9rCQDq",
    "outputId": "44d3410a-9088-4d5d-86a0-a939cb818227"
   },
   "outputs": [
    {
     "name": "stdout",
     "output_type": "stream",
     "text": [
      "+----+-----+------------------+------------------+------------------+-------------------+\n",
      "|Year|Month|         Avg_Close|        Avg_Volume|    Prev_Avg_Close|         Month_Diff|\n",
      "+----+-----+------------------+------------------+------------------+-------------------+\n",
      "|1999|   11|28.262374999999995|       1.3946566E7|              NULL|               NULL|\n",
      "|1999|   12|34.223636363636366|3222716.3181818184|28.262374999999995|  5.961261363636371|\n",
      "|2000|    1| 45.59859999999999|         2377907.8|              NULL|               NULL|\n",
      "|2000|    2| 58.32815000000001|         1745143.5| 45.59859999999999| 12.729550000000017|\n",
      "|2000|    3| 82.72717391304347| 2657412.434782609| 58.32815000000001| 24.399023913043465|\n",
      "|2000|    4| 63.19631578947369|         2569107.0| 82.72717391304347|-19.530858123569786|\n",
      "|2000|    5|53.169681818181814|5203545.2727272725| 63.19631578947369|-10.026633971291872|\n",
      "|2000|    6| 49.04671428571429| 8708415.238095239|53.169681818181814| -4.122967532467527|\n",
      "|2000|    7|41.327299999999994|         8527759.4| 49.04671428571429|-7.7194142857142936|\n",
      "|2000|    8|33.320565217391305| 5886230.043478261|41.327299999999994| -8.006734782608689|\n",
      "|2000|    9| 36.42150000000001|         3272263.1|33.320565217391305| 3.1009347826087037|\n",
      "|2000|   10|32.165727272727274| 4542464.590909091| 36.42150000000001| -4.255772727272735|\n",
      "|2000|   11|31.347380952380956| 4218493.714285715|32.165727272727274|-0.8183463203463184|\n",
      "|2000|   12|          37.32785|         3744027.8|31.347380952380956|  5.980469047619042|\n",
      "|2001|    1|            38.763| 3985914.238095238|              NULL|               NULL|\n",
      "|2001|    2|31.527263157894737| 4529032.631578947|            38.763| -7.235736842105261|\n",
      "|2001|    3|24.314863636363643| 4259652.954545454|31.527263157894737| -7.212399521531093|\n",
      "|2001|    4|           23.1483|         3465889.1|24.314863636363643|-1.1665636363636445|\n",
      "|2001|    5|25.520999999999994|         3224305.5|           23.1483| 2.3726999999999947|\n",
      "|2001|    6|21.458809523809528|3286357.1428571427|25.520999999999994| -4.062190476190466|\n",
      "+----+-----+------------------+------------------+------------------+-------------------+\n",
      "only showing top 20 rows\n",
      "\n"
     ]
    }
   ],
   "source": [
    "%spark -o  monthly_avg_with_lag_sdf"
   ]
  },
  {
   "cell_type": "markdown",
   "metadata": {
    "id": "skjoQJB5Pwop"
   },
   "source": [
    "## 3.4.2"
   ]
  },
  {
   "cell_type": "markdown",
   "metadata": {
    "id": "9o0L0LMCWmaN"
   },
   "source": [
    "### Common Errors with UDFs\n",
    "\n",
    "In this part, we attempt to find the magnitude (absolute value) of the monthly difference column we obtained from the previous section. As we saw in a previous section, a UDF is a good way of doing such operations in spark. Here we have a simple udf where we attempt to use python's well known abs() function to identify the magnitude. However, there are a couple of bugs in this code. Can you find them?\n",
    "\n",
    "# NOTE: Please do not remove the UDF function to pass the test case. Make changes to debug the function."
   ]
  },
  {
   "cell_type": "code",
   "execution_count": null,
   "metadata": {
    "id": "y4Uv4APNQHZ2"
   },
   "outputs": [],
   "source": [
    "%%spark\n",
    "\n",
    "from pyspark.sql.types import *\n",
    "from pyspark.sql.functions import *\n",
    "\n",
    "\n",
    "\n",
    "def absolute_value(val):\n",
    "        return abs(val)\n",
    "\n",
    "\n",
    "spark.udf.register(\"ABS_VAL\", absolute_value, DoubleType())\n",
    "monthly_avg_with_lag_sdf.createOrReplaceTempView('monthly_avg_with_lag')\n",
    "\n",
    "absolute_values_sdf = spark.sql(\"SELECT Month_Diff, ABS_VAL(Month_Diff) AS Absolute_Value FROM monthly_avg_with_lag\")\n"
   ]
  },
  {
   "cell_type": "code",
   "execution_count": null,
   "metadata": {
    "id": "mYKUXH5tCLQV"
   },
   "outputs": [],
   "source": [
    "%spark -o  absolute_values_sdf"
   ]
  },
  {
   "cell_type": "code",
   "execution_count": null,
   "metadata": {
    "id": "T9i_yfhU__11"
   },
   "outputs": [],
   "source": [
    "## AUTOGRADER\n",
    "grader.grade(test_case_id = 'absolute_values', answer = absolute_values_sdf)"
   ]
  },
  {
   "cell_type": "markdown",
   "metadata": {
    "id": "940sP2rwMd4U"
   },
   "source": [
    "## Step 4: Combining LinkedIn and Stocks Data [10 pts]"
   ]
  },
  {
   "cell_type": "markdown",
   "metadata": {
    "id": "HV_B1aceHd5V"
   },
   "source": [
    "### 4.1: The CRAZY Combination"
   ]
  },
  {
   "cell_type": "markdown",
   "metadata": {
    "id": "oWDGktQ3Ms4b"
   },
   "source": [
    "Now that we have individually created the two halves of our training data we will merge them together to create the combined final training sdf.\n",
    "\n",
    "Create an sdf called `training_sdf` in the format of the one shown at the beginning of Step 3. Note that in our definition for the `stock_result` column, the `stock_result` value for a particular year corresponds to the direction of the stock percentage change in the **following** year. For example, the stock_result in the `2008` row for `IBM` will contain the direction of IBM's stock in the year 2009. For the final training dataframe, we only need the entries for the companies where both hiring and stock data are available for the particular year.\n",
    "The format of the sdf is shown below:\n",
    "```\n",
    "+----+-----+----------+---------+----------+----------+---------+----------+-------------+\n",
    "|org |year |jan_hired |   ...   |dec_hired |jan_stock |   ...   |dec_stock |stock_result |\n",
    "+----+-----+----------+---------+----------+----------+---------+----------+-------------+\n",
    "|IBM |2008 |...       |   ...   |...       |...       |   ...   |...       |-1           |\n",
    "|IBM |2009 |...       |   ...   |...       |...       |   ...   |...       |1            |\n",
    "|... |...  |...       |   ...   |...       |...       |   ...   |...       |...          |\n",
    "+----+-----+----------+---------+----------+----------+---------+----------+-------------+\n",
    "```\n",
    "\n",
    "**Note:** For a given company, if there is no data for a year X, you can omit the year X-1 from the corresponding solution dataframe, as there exists no data for the following year. You should be using `hire_train_sdf`"
   ]
  },
  {
   "cell_type": "code",
   "execution_count": null,
   "metadata": {
    "id": "eGYVAagkM0KC"
   },
   "outputs": [],
   "source": [
    "%%spark\n",
    "\n",
    "#ToDo\n",
    "\n",
    "training_sdf ="
   ]
  },
  {
   "cell_type": "code",
   "execution_count": null,
   "metadata": {
    "id": "Zq4S0CDDMLNn"
   },
   "outputs": [],
   "source": [
    "#################     DO NOT EDIT      ##################\n",
    "%%spark\n",
    "training_sdf.createOrReplaceTempView(\"test_4\")\n",
    "test_4_sdf = spark.sql(\"SELECT * FROM test_4 ORDER BY org, year ASC LIMIT 10\")"
   ]
  },
  {
   "cell_type": "code",
   "execution_count": null,
   "metadata": {
    "id": "mkh67PtMMZXl"
   },
   "outputs": [],
   "source": [
    "#Convert to Pandas\n",
    "%spark -o test_4_sdf"
   ]
  },
  {
   "cell_type": "code",
   "execution_count": null,
   "metadata": {
    "id": "CEJ6XbZfMd9n"
   },
   "outputs": [],
   "source": [
    "## AUTOGRADER\n",
    "grader.grade(test_case_id = 'test_merged_training_sdf', answer = test_4_sdf)"
   ]
  },
  {
   "cell_type": "markdown",
   "metadata": {
    "id": "rGyXyvhBDr0-"
   },
   "source": [
    "## Step 5: Twitter followers [27 Pts]\n",
    "\n",
    "In this section, we will be working with a dummy dataset representing connections on twitter, where each row consists of a person A, and a person B, such that person A follows person B.\n",
    "\n",
    "Let's introduce a fun little concept called the Bacon Number! The Bacon number of an actor or actress is the number of degrees of separation they have from actor Kevin Bacon, as defined by the game known as Six Degrees of Kevin Bacon. For example, Kevin Bacon's Bacon number is 0. If an actor works in a movie with Kevin Bacon, the actor's Bacon number is 1. If an actor works with an actor who worked with Kevin Bacon in a movie, the first actor's Bacon number is 2, and so forth.\n",
    "\n",
    "How do we implement the \"Super Bacon\" for our dataset though? We define this number as follows: if person A follows person B, and person B follows person C, then the super bacon of C with respect to A will be 2.\n",
    "\n",
    "Now to calculate this number, we'll use the concepts of graphs and BFS!"
   ]
  },
  {
   "cell_type": "code",
   "execution_count": null,
   "metadata": {
    "id": "E_i8gCbAEuHW"
   },
   "outputs": [],
   "source": [
    "!pip install pyspark"
   ]
  },
  {
   "cell_type": "code",
   "execution_count": null,
   "metadata": {
    "id": "s7AlDICWEt7e"
   },
   "outputs": [],
   "source": [
    "from pyspark.sql import SparkSession\n",
    "\n",
    "appName = \"PySpark\"\n",
    "\n",
    "# Create Spark session\n",
    "spark = SparkSession.builder.appName(appName).getOrCreate()"
   ]
  },
  {
   "cell_type": "markdown",
   "metadata": {
    "id": "zkJ2eyNrDtUl"
   },
   "source": [
    "### 5.1: “Traversing” a Graph\n",
    "\n",
    "Let's review how BFS works!"
   ]
  },
  {
   "cell_type": "code",
   "execution_count": null,
   "metadata": {
    "id": "sH6pKfJJEzpu"
   },
   "outputs": [],
   "source": [
    "import pandas as pd\n",
    "from IPython.display import Image as I\n",
    "\n",
    "bfsgif =\\\n",
    "'https://upload.wikimedia.org/wikipedia/commons/5/5d/Breadth-First-S'+\\\n",
    "'earch-Algorithm.gif'\n",
    "dfsgif=\\\n",
    "'https://upload.wikimedia.org/wikipedia/commons/7/7f/Depth-First-Search.gif'"
   ]
  },
  {
   "cell_type": "markdown",
   "metadata": {
    "id": "Oo3y1k4EDyod"
   },
   "source": [
    "\n",
    "#### 5.1.1 Intro to Distributed Breadth-First Search\n",
    "\n",
    "\n",
    "To start off, we will be implementing a graph traversal algorithm known as Breadth First Search. It works in a way that's equivalent to how a stain spreads on a white t-shirt. Take a look at the graph below:\n",
    "\n",
    "<p align = \"center\">\n",
    "<img src = \"https://imgur.com/WU3AUwg.png\" width= \"600\" align =\"center\"/>\n",
    "\n",
    "* Consider starting BFS from point A (green). This is considered the starting frontier/singular origin node.\n",
    "* The first round of BFS would involve finding all the nodes directly reachable from A, namely B-F (blue circles). These blue nodes make up the next frontier at depth 1 away from our starting node A.\n",
    "* The second round would then be identifying the red nodes which are the neighbors of the blue nodes. Now, the red nodes all belong to a frontier 2 depth away from A. Note that node A is also a neighbor of a blue node. However, since it has already been visited, it does not get added to this frontier.\n",
    "\n",
    "This process continues until all the nodes in the graph have been visited.\n",
    "If you would like to learn more about BFS, we highly suggest looking [here](https://www.tutorialspoint.com/data_structures_algorithms/breadth_first_traversal.htm).\n",
    "\n",
    "\n",
    "We will now be implementing **spark_bfs(G, N, d)**, our spark flavor of BFS that takes a graph **G**, a set of origin nodes **N**, and a max depth **d**.\n",
    "\n",
    "In order to write a successful BFS function, you are going to need to figure out\n",
    "1. how to keep track of nodes that we have visited\n",
    "2. how to properly find all the nodes at the next depth\n",
    "3. how to avoid cycles and ensure that we do not constantly loop through the same edges (take a look at J-K in the graph)"
   ]
  },
  {
   "cell_type": "markdown",
   "metadata": {
    "id": "NYjIiz_0E7Aw"
   },
   "source": [
    "#### [OPTIONAL/ADDITIONAL] BFS vs. DFS Animation\n",
    "Run the code cells below to understand the difference between depth and breadth first search! (Source: Wikimedia Commons)"
   ]
  },
  {
   "cell_type": "code",
   "execution_count": null,
   "metadata": {
    "id": "1wteWWS7E3KK"
   },
   "outputs": [],
   "source": [
    "# NOT GRADED\n",
    "print('BFS:')\n",
    "I(url=bfsgif)"
   ]
  },
  {
   "cell_type": "code",
   "execution_count": null,
   "metadata": {
    "id": "2-S7vJ9pE40i"
   },
   "outputs": [],
   "source": [
    "#NOT GRADED\n",
    "print('DFS:')\n",
    "I(url=dfsgif)"
   ]
  },
  {
   "cell_type": "markdown",
   "metadata": {
    "id": "pyuyXzNjEjEp"
   },
   "source": [
    "#### 5.1.2 Implement One Traversal [6 Pts]\n",
    "\n",
    "To break down this process, let's think about how we would implement a single traversal of the graph. That is given the green node in the graph above, how are we going to get the blue nodes?\n",
    "\n",
    "\n",
    "Consider the simple graph below **which is different from the graph in the image above**:"
   ]
  },
  {
   "cell_type": "code",
   "execution_count": null,
   "metadata": {
    "id": "74yrRK9AE-G5"
   },
   "outputs": [],
   "source": [
    "%%spark\n",
    "#spark.conf.set(\"spark.sql.execution.arrow.enabled\", \"true\")\n",
    "import pandas as pd\n",
    "\n",
    "simple = [('A', 'B'),\n",
    "         ('A', 'C'),\n",
    "         ('A', 'D'),\n",
    "         ('C', 'F'),\n",
    "         ('F', 'A'),\n",
    "         ('B', 'G'),\n",
    "         ('G', 'H'),\n",
    "         ('D', 'E')]\n",
    "\n",
    "simple_dict = {'from_node': ['A', 'A', 'A', 'C', 'F', 'B', 'G', 'D'],\n",
    "       'to_node': ['B', 'C', 'D', 'F', 'A', 'G', 'H', 'E']}\n",
    "\n",
    "simple_graph_df = pd.DataFrame.from_dict(simple_dict)\n",
    "simple_graph_sdf = spark.createDataFrame(simple_graph_df)\n",
    "simple_graph_sdf.show()"
   ]
  },
  {
   "cell_type": "markdown",
   "metadata": {
    "id": "KTbktZQ9FGox"
   },
   "source": [
    "As you can see, each row of this dataframe represents an edge between two nodes. Here, we are looking at a directed graph, which means that A-->B does not represent the same edge as B-->A.\n",
    "Let's define our starting node as follows:"
   ]
  },
  {
   "cell_type": "code",
   "execution_count": null,
   "metadata": {
    "id": "POWS1z8hE-ym"
   },
   "outputs": [],
   "source": [
    "%%spark\n",
    "smallOrig = [{'node': 'A'}]"
   ]
  },
  {
   "cell_type": "markdown",
   "metadata": {
    "id": "xwgYZNZ-FHZg"
   },
   "source": [
    "Then, bfs with graph G, starting from smallOrig to depth 1, or spark_bfs(G, smallOrig, 1) would output as follows:"
   ]
  },
  {
   "cell_type": "code",
   "execution_count": null,
   "metadata": {
    "id": "-hBlW2rPFKig"
   },
   "outputs": [],
   "source": [
    "%%spark\n",
    "simple_1_round_dict = {'node': ['B', 'D', 'C', 'A'],\n",
    "       'distance': [1, 1, 1, 0]}\n",
    "simple_1_round_bfs_df = pd.DataFrame.from_dict(simple_1_round_dict)\n",
    "simple_1_round_bfs_sdf = spark.createDataFrame(simple_1_round_bfs_df)\n",
    "simple_1_round_bfs_sdf.show()"
   ]
  },
  {
   "cell_type": "markdown",
   "metadata": {
    "id": "15Qk24fGFO_U"
   },
   "source": [
    "As you can see, this dataframe logs each node with its corresponding distance away from A. Moreover, we also know that these nodes are **visited**.\n",
    "\n",
    "Hopefully, you can see how we can use our original graph and this new information to find the nodes at depth two.\n",
    "\n",
    "This is exactly what we will try to accomplish with **spark_bfs_1_round(visited_nodes)** which will ultimately be the inner function of **spark_bfs** that we use to perform exactly one traversal of a graph.\n",
    "\n",
    "**TODO**: Write **spark_bfs_1_round(visted_nodes)** that takes the currently dataframe of visited_nodes, performs one round of BFS, and returns an updated visited nodes dataframe. You should assume that a temporary sdf `G` already exists as a global variable that identifies node relationships. In 5.1.2, G will be simple_graph_sdf. “"
   ]
  },
  {
   "cell_type": "code",
   "execution_count": null,
   "metadata": {
    "id": "OQYlGzw6FSms"
   },
   "outputs": [],
   "source": [
    "%%spark\n",
    "def spark_bfs_1_round(visited_nodes):\n",
    "  \"\"\"\n",
    "  :param visited_nodes: dataframe with columns node and distance\n",
    "  :return: dataframe of updated visited nodes, with columns node and distance\n",
    "  \"\"\"\n",
    "  # TODO: Complete this function to implement 1 round of BFS\n"
   ]
  },
  {
   "cell_type": "markdown",
   "metadata": {
    "id": "za3-poGjFaRy"
   },
   "source": [
    "Now, run the inner function on simple_1_round_bfs_sdf (i.e. result of 1 round of BFS on the simple graph) and store the results in simple_bfs_result. This is ultimately what the output of BFS to depth 2 should look like. Create your temporary sdf `G` and then call the `spark_bfs_1_round` function you created above."
   ]
  },
  {
   "cell_type": "code",
   "execution_count": null,
   "metadata": {
    "id": "IUTyEdbpFUVG"
   },
   "outputs": [],
   "source": [
    "%%spark\n",
    "# TODO: Run spark_bfs_1_round on simple_1_round_bfs_sdf\n"
   ]
  },
  {
   "cell_type": "markdown",
   "metadata": {
    "id": "CgO9ZG6NkRz2"
   },
   "source": [
    "We'll copy to Colab and convert to Pandas"
   ]
  },
  {
   "cell_type": "code",
   "execution_count": null,
   "metadata": {
    "id": "eovQ5yTokLwj"
   },
   "outputs": [],
   "source": [
    "%spark -o simple_bfs_result"
   ]
  },
  {
   "cell_type": "markdown",
   "metadata": {
    "id": "evUUcJ0yFdhH"
   },
   "source": [
    "Convert this result to Pandas, sort your dataframe by `node` ascending, and submit it to the autograder."
   ]
  },
  {
   "cell_type": "code",
   "execution_count": null,
   "metadata": {
    "id": "kH1XA1eWluCD"
   },
   "outputs": [],
   "source": [
    "###DO NOT EDIT\n",
    "simple_bfs_test = simple_bfs_result.sort_values(by=[\"node\"],ascending=True)"
   ]
  },
  {
   "cell_type": "code",
   "execution_count": null,
   "metadata": {
    "id": "Z0IyMp1dFYEh"
   },
   "outputs": [],
   "source": [
    "# 6 points\n",
    "grader.grade(test_case_id = 'checksimpleBFS', answer = simple_bfs_test.reset_index())"
   ]
  },
  {
   "cell_type": "markdown",
   "metadata": {
    "id": "Nk2soBT2EoRl"
   },
   "source": [
    "#### 5.1.3 Full BFS Implementation\n",
    "\n",
    "Now, we will fully implement **spark_bfs**. This function should iteratively call your implemented version of **spark_bfs_1_round** and ultimately return the output of this function at **max_depth**.\n",
    "\n",
    "You are also responsible for initializing the starting dataframe, that is converting the list of origin nodes into a spark dataframe with the nodes logged at distance 0.\n",
    "\n",
    "Consider the following:\n",
    "\n",
    "```\n",
    "schema = StructType([\n",
    "            StructField(\"node\", StringType(), True)\n",
    "        ])\n",
    "\n",
    "    my_sdf = spark.createDataFrame(origins, schema)\n",
    "```\n",
    "\n",
    "The schema ultimately specifies the structure of the Spark DataFrame with a string `node` column. It then calls **spark.createDataFrame** to map this schema to the **origins** nodes. Also, you are responsible for ensuring that a view of your graph is available within this function. (Note: you will also need to add in a distance column)\n",
    "\n",
    "**TODO:** implement **spark_bfs(G,origins,max_depth)**. In the coming sections, you will run this function on **twitter_sdf** that will be initialized in 5.2. Note: you may want to run tests on the **simple_graph** example as the `twitter_sdf` will take quite some time to run.\n",
    "\n",
    "Also remember that in section 5.1.2, we had assumed that the temporary view already exists. So you will have to take care of creating that within this function.\n",
    "\n",
    "These imports might be useful:\n",
    "`from pyspark.sql.types import StructType, StructField, StringType, IntegerType`"
   ]
  },
  {
   "cell_type": "code",
   "execution_count": null,
   "metadata": {
    "id": "tIbkTuSTFhR4"
   },
   "outputs": [],
   "source": [
    "%%spark\n",
    "from pyspark.sql.types import StructType, StructField, StringType, IntegerType\n",
    "# TODO: iterative search over undirected graph\n",
    "# Worth 5 points directly, but will be needed later\n",
    "\n",
    "def spark_bfs(G, origins, max_depth):\n",
    "  \"\"\" runs distributed BFS to a specified max depth\n",
    "\n",
    "  :param G: graph dataframe from 5.1.2\n",
    "  :param origins: list of origin nodes stored as {\"node\": nodeValue}\n",
    "  :param max_depth: integer value of max depth to run BFS to\n",
    "  :return: dataframe with columns node, distance of all visited nodes\n",
    "  \"\"\""
   ]
  },
  {
   "cell_type": "markdown",
   "metadata": {
    "id": "2LRo1B8HFjs1"
   },
   "source": [
    "Test that this function works on the simple example."
   ]
  },
  {
   "cell_type": "code",
   "execution_count": null,
   "metadata": {
    "id": "rL9XjwyPFhyy"
   },
   "outputs": [],
   "source": [
    "%%spark\n",
    "simple_bfs_iterative_result = spark_bfs(simple_graph_sdf, smallOrig, 3)\n",
    "simple_bfs_iterative_result.show()"
   ]
  },
  {
   "cell_type": "markdown",
   "metadata": {
    "id": "FBIXSJQmFqZc"
   },
   "source": [
    "### 5.2: Popular People [6 Pts]"
   ]
  },
  {
   "cell_type": "code",
   "execution_count": null,
   "metadata": {
    "id": "CPiaJKt8AG-X"
   },
   "outputs": [],
   "source": [
    "%%spark\n",
    "from pyspark import SparkFiles\n",
    "from pyspark.sql import SparkSession\n",
    "\n",
    "\n",
    "url = \"https://storage.googleapis.com/penn-cis5450/twitter_followers.csv\"\n",
    "#if this does not work try using this url instead : https://drive.google.com/file/d/1MNGXvH2kxanW1iOOp1egz6cMg_cugxE9/view?usp=share_link\n",
    "\n",
    "spark.sparkContext.addFile(url)"
   ]
  },
  {
   "cell_type": "markdown",
   "metadata": {
    "id": "J9tlk9skXegN"
   },
   "source": [
    "It's time to take a look at our dataset. Let's load the data to **twitter_sdf** and see how it looks."
   ]
  },
  {
   "cell_type": "code",
   "execution_count": null,
   "metadata": {
    "id": "F7EsOfD5NMea"
   },
   "outputs": [],
   "source": [
    "%%spark\n",
    "twitter_sdf = spark.read.csv(\"file://\" + SparkFiles.get(\"twitter_followers.csv\"),header = True)"
   ]
  },
  {
   "cell_type": "code",
   "execution_count": null,
   "metadata": {
    "id": "bN-1SaYENlD-"
   },
   "outputs": [],
   "source": [
    "%%spark\n",
    "twitter_sdf.show()"
   ]
  },
  {
   "cell_type": "markdown",
   "metadata": {
    "id": "D_v7xH6v39Ii"
   },
   "source": [
    "As we can see, the dataframe consists of 2 columns named User1 and User2. These columns indicate an edge in the social network graph formed when people follow each other on twitter. Each row in the dataframe indicates that user1 follows user2. For example, the 0 indexed row has James as User1 and Ashley as User2, which indicates that James follows Ashley."
   ]
  },
  {
   "cell_type": "markdown",
   "metadata": {
    "id": "JPftgXHoXneJ"
   },
   "source": [
    "Let's take a look at which people were the most popular in terms of the number of followers they had. ***TODO***: Count the number of followers each person (Consider only those people who have atleast one follower. i.e. Those whose name exists in the User2 column). Return a dataframe with the schema (Name,Followers). Order your dataframe by Followers in descending order."
   ]
  },
  {
   "cell_type": "code",
   "execution_count": null,
   "metadata": {
    "id": "idqHrl-BNrH5"
   },
   "outputs": [],
   "source": [
    "%%spark\n",
    "# TODO\n"
   ]
  },
  {
   "cell_type": "markdown",
   "metadata": {
    "id": "Qpjvw2j3I9Nt"
   },
   "source": [
    "Convert the dataframe to pandas and pass it to the grader."
   ]
  },
  {
   "cell_type": "code",
   "execution_count": null,
   "metadata": {
    "id": "1LL-GRtFAakO"
   },
   "outputs": [],
   "source": [
    "%spark -o count_sdf"
   ]
  },
  {
   "cell_type": "code",
   "execution_count": null,
   "metadata": {
    "id": "tF6l4PLF_OKB"
   },
   "outputs": [],
   "source": [
    "# 4 points\n",
    "grader.grade(test_case_id = 'checkFollowerCount', answer = count_sdf)"
   ]
  },
  {
   "cell_type": "markdown",
   "metadata": {
    "id": "Y7-sQIg9Ydze"
   },
   "source": [
    "Now that we have the Twitter dataset, let's convert it to a graph sdf just like the one we had in section 5.1 (P.S. it's not as hard as it sounds).\n",
    "\n",
    "**TODO:** Create **twitter_graph_sdf** that has the columns *from_node* and *to_node*. from_node has all the entries from the *User1* column and to_node has all the entries from the *User2* column."
   ]
  },
  {
   "cell_type": "code",
   "execution_count": null,
   "metadata": {
    "id": "pY37jvGkOBeN"
   },
   "outputs": [],
   "source": [
    "%%spark\n",
    "# TODO\n"
   ]
  },
  {
   "cell_type": "code",
   "execution_count": null,
   "metadata": {
    "id": "YzvqVqcPAfZ_"
   },
   "outputs": [],
   "source": [
    "%spark -o twitter_graph_sdf"
   ]
  },
  {
   "cell_type": "code",
   "execution_count": null,
   "metadata": {
    "id": "_K7U-RF4_eSv"
   },
   "outputs": [],
   "source": [
    "grader.grade(test_case_id = 'checkTwitterGraph', answer = twitter_graph_sdf)"
   ]
  },
  {
   "cell_type": "markdown",
   "metadata": {
    "id": "duQ9JsnL_hqh"
   },
   "source": [
    "### 5.3: The Super Bacon Search [15 Pts]"
   ]
  },
  {
   "cell_type": "markdown",
   "metadata": {
    "id": "oQyp_EjeM_16"
   },
   "source": [
    "In the previous section, we found out that Patricia and Karen have been the most popular people for tour dataset. So let's find out the Super Bacons with respect to Karen."
   ]
  },
  {
   "cell_type": "code",
   "execution_count": null,
   "metadata": {
    "id": "Tqt1cB3FnqZD"
   },
   "outputs": [],
   "source": [
    "%%spark\n",
    "orig = [{'node': 'Karen'}]"
   ]
  },
  {
   "cell_type": "code",
   "execution_count": null,
   "metadata": {
    "id": "fqe1VsbLnuO_"
   },
   "outputs": [],
   "source": [
    "%%spark\n",
    "bfs_5 = spark_bfs(twitter_graph_sdf, orig, 5)\n",
    "bfs_5.show()"
   ]
  },
  {
   "cell_type": "code",
   "execution_count": null,
   "metadata": {
    "id": "_bFCML1YnYmo"
   },
   "outputs": [],
   "source": [
    "%spark -o bfs_5\n",
    "answer_df = bfs_5"
   ]
  },
  {
   "cell_type": "code",
   "execution_count": null,
   "metadata": {
    "id": "-1IVMn3Q_rob"
   },
   "outputs": [],
   "source": [
    "# 15 points\n",
    "grader.grade(test_case_id = 'checkBFS', answer = answer_df)"
   ]
  },
  {
   "cell_type": "markdown",
   "metadata": {
    "id": "EHVFHPVIrvu1"
   },
   "source": [
    "# HW Submission\n",
    "\n",
    "Before you submit on Gradescope (you must submit your notebook to receive credit):\n",
    "\n",
    "\n",
    "1.   Restart and Run-All to make sure there's nothing wrong with your notebook\n",
    "2.   **Double check that you have the correct PennID (all numbers) in the autograder**.\n",
    "3. Make sure you've run all the PennGrader cells\n",
    "4. Go to the \"File\" tab at the top left, and click \"Download .ipynb\" and then \"Download .py\".  **Rename** the files to \"homework3.ipynb\" and \"homework3.py\" respectively and upload them to Gradescope\n",
    "5.\n",
    "\n",
    "**Let the course staff know ASAP if you have any issues submitting, but otherwise best of luck!**"
   ]
  }
 ],
 "metadata": {
  "colab": {
   "provenance": []
  },
  "kernelspec": {
   "display_name": "Python 3",
   "name": "python3"
  },
  "language_info": {
   "name": "python"
  },
  "widgets": {
   "application/vnd.jupyter.widget-state+json": {
    "11455cc6829d4fab949e5503896c90ee": {
     "model_module": "@jupyter-widgets/controls",
     "model_module_version": "1.5.0",
     "model_name": "FloatProgressModel",
     "state": {
      "_dom_classes": [],
      "_model_module": "@jupyter-widgets/controls",
      "_model_module_version": "1.5.0",
      "_model_name": "FloatProgressModel",
      "_view_count": null,
      "_view_module": "@jupyter-widgets/controls",
      "_view_module_version": "1.5.0",
      "_view_name": "ProgressView",
      "bar_style": "info",
      "description": "Progress:",
      "description_tooltip": null,
      "layout": "IPY_MODEL_570cd656de1b4140bee17286ede8f9d8",
      "max": 1,
      "min": 0,
      "orientation": "horizontal",
      "style": "IPY_MODEL_540f0c1c056745dbaa3853258223ae3a",
      "value": 0
     }
    },
    "13ca0201a31e40e88bff4c8ba29b6acf": {
     "model_module": "@jupyter-widgets/controls",
     "model_module_version": "1.5.0",
     "model_name": "FloatProgressModel",
     "state": {
      "_dom_classes": [],
      "_model_module": "@jupyter-widgets/controls",
      "_model_module_version": "1.5.0",
      "_model_name": "FloatProgressModel",
      "_view_count": null,
      "_view_module": "@jupyter-widgets/controls",
      "_view_module_version": "1.5.0",
      "_view_name": "ProgressView",
      "bar_style": "info",
      "description": "Progress:",
      "description_tooltip": null,
      "layout": "IPY_MODEL_f82e905e95af4e7598eff9c5559c8e80",
      "max": 1,
      "min": 0,
      "orientation": "horizontal",
      "style": "IPY_MODEL_73cf5696453744f8a835202c83506f1b",
      "value": 0
     }
    },
    "1b126fccb438410f80c8d3310dbb7b2b": {
     "model_module": "@jupyter-widgets/controls",
     "model_module_version": "1.5.0",
     "model_name": "ProgressStyleModel",
     "state": {
      "_model_module": "@jupyter-widgets/controls",
      "_model_module_version": "1.5.0",
      "_model_name": "ProgressStyleModel",
      "_view_count": null,
      "_view_module": "@jupyter-widgets/base",
      "_view_module_version": "1.2.0",
      "_view_name": "StyleView",
      "bar_color": null,
      "description_width": ""
     }
    },
    "275b5e48fea947838dbaf687f7ada078": {
     "model_module": "@jupyter-widgets/controls",
     "model_module_version": "1.5.0",
     "model_name": "FloatProgressModel",
     "state": {
      "_dom_classes": [],
      "_model_module": "@jupyter-widgets/controls",
      "_model_module_version": "1.5.0",
      "_model_name": "FloatProgressModel",
      "_view_count": null,
      "_view_module": "@jupyter-widgets/controls",
      "_view_module_version": "1.5.0",
      "_view_name": "ProgressView",
      "bar_style": "info",
      "description": "Progress:",
      "description_tooltip": null,
      "layout": "IPY_MODEL_43e25d9126654465b5fb9f9ce3f33788",
      "max": 1,
      "min": 0,
      "orientation": "horizontal",
      "style": "IPY_MODEL_2e511cc414f24cfaa660e7611a642f52",
      "value": 0
     }
    },
    "298152f822d54e6d8e8e06c3c2cdaadb": {
     "model_module": "@jupyter-widgets/controls",
     "model_module_version": "1.5.0",
     "model_name": "ProgressStyleModel",
     "state": {
      "_model_module": "@jupyter-widgets/controls",
      "_model_module_version": "1.5.0",
      "_model_name": "ProgressStyleModel",
      "_view_count": null,
      "_view_module": "@jupyter-widgets/base",
      "_view_module_version": "1.2.0",
      "_view_name": "StyleView",
      "bar_color": null,
      "description_width": ""
     }
    },
    "2e511cc414f24cfaa660e7611a642f52": {
     "model_module": "@jupyter-widgets/controls",
     "model_module_version": "1.5.0",
     "model_name": "ProgressStyleModel",
     "state": {
      "_model_module": "@jupyter-widgets/controls",
      "_model_module_version": "1.5.0",
      "_model_name": "ProgressStyleModel",
      "_view_count": null,
      "_view_module": "@jupyter-widgets/base",
      "_view_module_version": "1.2.0",
      "_view_name": "StyleView",
      "bar_color": null,
      "description_width": ""
     }
    },
    "2ea801cde9324a28a67ccb97486ca668": {
     "model_module": "@jupyter-widgets/base",
     "model_module_version": "1.2.0",
     "model_name": "LayoutModel",
     "state": {
      "_model_module": "@jupyter-widgets/base",
      "_model_module_version": "1.2.0",
      "_model_name": "LayoutModel",
      "_view_count": null,
      "_view_module": "@jupyter-widgets/base",
      "_view_module_version": "1.2.0",
      "_view_name": "LayoutView",
      "align_content": null,
      "align_items": null,
      "align_self": null,
      "border": null,
      "bottom": null,
      "display": null,
      "flex": null,
      "flex_flow": null,
      "grid_area": null,
      "grid_auto_columns": null,
      "grid_auto_flow": null,
      "grid_auto_rows": null,
      "grid_column": null,
      "grid_gap": null,
      "grid_row": null,
      "grid_template_areas": null,
      "grid_template_columns": null,
      "grid_template_rows": null,
      "height": "25px",
      "justify_content": null,
      "justify_items": null,
      "left": null,
      "margin": null,
      "max_height": null,
      "max_width": null,
      "min_height": null,
      "min_width": null,
      "object_fit": null,
      "object_position": null,
      "order": null,
      "overflow": null,
      "overflow_x": null,
      "overflow_y": null,
      "padding": null,
      "right": null,
      "top": null,
      "visibility": null,
      "width": "50%"
     }
    },
    "3a9fe3effee14a57b25fe9a163cb8cba": {
     "model_module": "@jupyter-widgets/controls",
     "model_module_version": "1.5.0",
     "model_name": "ProgressStyleModel",
     "state": {
      "_model_module": "@jupyter-widgets/controls",
      "_model_module_version": "1.5.0",
      "_model_name": "ProgressStyleModel",
      "_view_count": null,
      "_view_module": "@jupyter-widgets/base",
      "_view_module_version": "1.2.0",
      "_view_name": "StyleView",
      "bar_color": null,
      "description_width": ""
     }
    },
    "43e25d9126654465b5fb9f9ce3f33788": {
     "model_module": "@jupyter-widgets/base",
     "model_module_version": "1.2.0",
     "model_name": "LayoutModel",
     "state": {
      "_model_module": "@jupyter-widgets/base",
      "_model_module_version": "1.2.0",
      "_model_name": "LayoutModel",
      "_view_count": null,
      "_view_module": "@jupyter-widgets/base",
      "_view_module_version": "1.2.0",
      "_view_name": "LayoutView",
      "align_content": null,
      "align_items": null,
      "align_self": null,
      "border": null,
      "bottom": null,
      "display": null,
      "flex": null,
      "flex_flow": null,
      "grid_area": null,
      "grid_auto_columns": null,
      "grid_auto_flow": null,
      "grid_auto_rows": null,
      "grid_column": null,
      "grid_gap": null,
      "grid_row": null,
      "grid_template_areas": null,
      "grid_template_columns": null,
      "grid_template_rows": null,
      "height": "25px",
      "justify_content": null,
      "justify_items": null,
      "left": null,
      "margin": null,
      "max_height": null,
      "max_width": null,
      "min_height": null,
      "min_width": null,
      "object_fit": null,
      "object_position": null,
      "order": null,
      "overflow": null,
      "overflow_x": null,
      "overflow_y": null,
      "padding": null,
      "right": null,
      "top": null,
      "visibility": null,
      "width": "50%"
     }
    },
    "4e914e248d014bc6962c488328046e73": {
     "model_module": "@jupyter-widgets/controls",
     "model_module_version": "1.5.0",
     "model_name": "FloatProgressModel",
     "state": {
      "_dom_classes": [],
      "_model_module": "@jupyter-widgets/controls",
      "_model_module_version": "1.5.0",
      "_model_name": "FloatProgressModel",
      "_view_count": null,
      "_view_module": "@jupyter-widgets/controls",
      "_view_module_version": "1.5.0",
      "_view_name": "ProgressView",
      "bar_style": "info",
      "description": "Progress:",
      "description_tooltip": null,
      "layout": "IPY_MODEL_c7e5d9ecb41c408f8a1050154ee88a51",
      "max": 1,
      "min": 0,
      "orientation": "horizontal",
      "style": "IPY_MODEL_c08745a860124e6d8bf8552b364fe73f",
      "value": 0
     }
    },
    "4ea694e87b95475d89acf15630cc7767": {
     "model_module": "@jupyter-widgets/controls",
     "model_module_version": "1.5.0",
     "model_name": "FloatProgressModel",
     "state": {
      "_dom_classes": [],
      "_model_module": "@jupyter-widgets/controls",
      "_model_module_version": "1.5.0",
      "_model_name": "FloatProgressModel",
      "_view_count": null,
      "_view_module": "@jupyter-widgets/controls",
      "_view_module_version": "1.5.0",
      "_view_name": "ProgressView",
      "bar_style": "info",
      "description": "Progress:",
      "description_tooltip": null,
      "layout": "IPY_MODEL_afb7efcdb1c84bebb0ba3e0a6ff21185",
      "max": 1,
      "min": 0,
      "orientation": "horizontal",
      "style": "IPY_MODEL_1b126fccb438410f80c8d3310dbb7b2b",
      "value": 0
     }
    },
    "540f0c1c056745dbaa3853258223ae3a": {
     "model_module": "@jupyter-widgets/controls",
     "model_module_version": "1.5.0",
     "model_name": "ProgressStyleModel",
     "state": {
      "_model_module": "@jupyter-widgets/controls",
      "_model_module_version": "1.5.0",
      "_model_name": "ProgressStyleModel",
      "_view_count": null,
      "_view_module": "@jupyter-widgets/base",
      "_view_module_version": "1.2.0",
      "_view_name": "StyleView",
      "bar_color": null,
      "description_width": ""
     }
    },
    "54c1dcfbeb934eb3b7cd26b2bd4cb579": {
     "model_module": "@jupyter-widgets/base",
     "model_module_version": "1.2.0",
     "model_name": "LayoutModel",
     "state": {
      "_model_module": "@jupyter-widgets/base",
      "_model_module_version": "1.2.0",
      "_model_name": "LayoutModel",
      "_view_count": null,
      "_view_module": "@jupyter-widgets/base",
      "_view_module_version": "1.2.0",
      "_view_name": "LayoutView",
      "align_content": null,
      "align_items": null,
      "align_self": null,
      "border": null,
      "bottom": null,
      "display": null,
      "flex": null,
      "flex_flow": null,
      "grid_area": null,
      "grid_auto_columns": null,
      "grid_auto_flow": null,
      "grid_auto_rows": null,
      "grid_column": null,
      "grid_gap": null,
      "grid_row": null,
      "grid_template_areas": null,
      "grid_template_columns": null,
      "grid_template_rows": null,
      "height": "25px",
      "justify_content": null,
      "justify_items": null,
      "left": null,
      "margin": null,
      "max_height": null,
      "max_width": null,
      "min_height": null,
      "min_width": null,
      "object_fit": null,
      "object_position": null,
      "order": null,
      "overflow": null,
      "overflow_x": null,
      "overflow_y": null,
      "padding": null,
      "right": null,
      "top": null,
      "visibility": null,
      "width": "50%"
     }
    },
    "570cd656de1b4140bee17286ede8f9d8": {
     "model_module": "@jupyter-widgets/base",
     "model_module_version": "1.2.0",
     "model_name": "LayoutModel",
     "state": {
      "_model_module": "@jupyter-widgets/base",
      "_model_module_version": "1.2.0",
      "_model_name": "LayoutModel",
      "_view_count": null,
      "_view_module": "@jupyter-widgets/base",
      "_view_module_version": "1.2.0",
      "_view_name": "LayoutView",
      "align_content": null,
      "align_items": null,
      "align_self": null,
      "border": null,
      "bottom": null,
      "display": null,
      "flex": null,
      "flex_flow": null,
      "grid_area": null,
      "grid_auto_columns": null,
      "grid_auto_flow": null,
      "grid_auto_rows": null,
      "grid_column": null,
      "grid_gap": null,
      "grid_row": null,
      "grid_template_areas": null,
      "grid_template_columns": null,
      "grid_template_rows": null,
      "height": "25px",
      "justify_content": null,
      "justify_items": null,
      "left": null,
      "margin": null,
      "max_height": null,
      "max_width": null,
      "min_height": null,
      "min_width": null,
      "object_fit": null,
      "object_position": null,
      "order": null,
      "overflow": null,
      "overflow_x": null,
      "overflow_y": null,
      "padding": null,
      "right": null,
      "top": null,
      "visibility": null,
      "width": "50%"
     }
    },
    "66e0bd5d863040e9b2d9626e6c4976da": {
     "model_module": "@jupyter-widgets/controls",
     "model_module_version": "1.5.0",
     "model_name": "FloatProgressModel",
     "state": {
      "_dom_classes": [],
      "_model_module": "@jupyter-widgets/controls",
      "_model_module_version": "1.5.0",
      "_model_name": "FloatProgressModel",
      "_view_count": null,
      "_view_module": "@jupyter-widgets/controls",
      "_view_module_version": "1.5.0",
      "_view_name": "ProgressView",
      "bar_style": "info",
      "description": "Progress:",
      "description_tooltip": null,
      "layout": "IPY_MODEL_d7501443931f45e497690cfb506808d8",
      "max": 1,
      "min": 0,
      "orientation": "horizontal",
      "style": "IPY_MODEL_3a9fe3effee14a57b25fe9a163cb8cba",
      "value": 0
     }
    },
    "73cf5696453744f8a835202c83506f1b": {
     "model_module": "@jupyter-widgets/controls",
     "model_module_version": "1.5.0",
     "model_name": "ProgressStyleModel",
     "state": {
      "_model_module": "@jupyter-widgets/controls",
      "_model_module_version": "1.5.0",
      "_model_name": "ProgressStyleModel",
      "_view_count": null,
      "_view_module": "@jupyter-widgets/base",
      "_view_module_version": "1.2.0",
      "_view_name": "StyleView",
      "bar_color": null,
      "description_width": ""
     }
    },
    "97a768ae010043a29cc88572abf3624c": {
     "model_module": "@jupyter-widgets/controls",
     "model_module_version": "1.5.0",
     "model_name": "FloatProgressModel",
     "state": {
      "_dom_classes": [],
      "_model_module": "@jupyter-widgets/controls",
      "_model_module_version": "1.5.0",
      "_model_name": "FloatProgressModel",
      "_view_count": null,
      "_view_module": "@jupyter-widgets/controls",
      "_view_module_version": "1.5.0",
      "_view_name": "ProgressView",
      "bar_style": "info",
      "description": "Progress:",
      "description_tooltip": null,
      "layout": "IPY_MODEL_9edf572334f04975a48cdfbfd7329fe0",
      "max": 1,
      "min": 0,
      "orientation": "horizontal",
      "style": "IPY_MODEL_beb48c9da03f416d8a6198a40d07bc1c",
      "value": 0
     }
    },
    "9edf572334f04975a48cdfbfd7329fe0": {
     "model_module": "@jupyter-widgets/base",
     "model_module_version": "1.2.0",
     "model_name": "LayoutModel",
     "state": {
      "_model_module": "@jupyter-widgets/base",
      "_model_module_version": "1.2.0",
      "_model_name": "LayoutModel",
      "_view_count": null,
      "_view_module": "@jupyter-widgets/base",
      "_view_module_version": "1.2.0",
      "_view_name": "LayoutView",
      "align_content": null,
      "align_items": null,
      "align_self": null,
      "border": null,
      "bottom": null,
      "display": null,
      "flex": null,
      "flex_flow": null,
      "grid_area": null,
      "grid_auto_columns": null,
      "grid_auto_flow": null,
      "grid_auto_rows": null,
      "grid_column": null,
      "grid_gap": null,
      "grid_row": null,
      "grid_template_areas": null,
      "grid_template_columns": null,
      "grid_template_rows": null,
      "height": "25px",
      "justify_content": null,
      "justify_items": null,
      "left": null,
      "margin": null,
      "max_height": null,
      "max_width": null,
      "min_height": null,
      "min_width": null,
      "object_fit": null,
      "object_position": null,
      "order": null,
      "overflow": null,
      "overflow_x": null,
      "overflow_y": null,
      "padding": null,
      "right": null,
      "top": null,
      "visibility": null,
      "width": "50%"
     }
    },
    "afb7efcdb1c84bebb0ba3e0a6ff21185": {
     "model_module": "@jupyter-widgets/base",
     "model_module_version": "1.2.0",
     "model_name": "LayoutModel",
     "state": {
      "_model_module": "@jupyter-widgets/base",
      "_model_module_version": "1.2.0",
      "_model_name": "LayoutModel",
      "_view_count": null,
      "_view_module": "@jupyter-widgets/base",
      "_view_module_version": "1.2.0",
      "_view_name": "LayoutView",
      "align_content": null,
      "align_items": null,
      "align_self": null,
      "border": null,
      "bottom": null,
      "display": null,
      "flex": null,
      "flex_flow": null,
      "grid_area": null,
      "grid_auto_columns": null,
      "grid_auto_flow": null,
      "grid_auto_rows": null,
      "grid_column": null,
      "grid_gap": null,
      "grid_row": null,
      "grid_template_areas": null,
      "grid_template_columns": null,
      "grid_template_rows": null,
      "height": "25px",
      "justify_content": null,
      "justify_items": null,
      "left": null,
      "margin": null,
      "max_height": null,
      "max_width": null,
      "min_height": null,
      "min_width": null,
      "object_fit": null,
      "object_position": null,
      "order": null,
      "overflow": null,
      "overflow_x": null,
      "overflow_y": null,
      "padding": null,
      "right": null,
      "top": null,
      "visibility": null,
      "width": "50%"
     }
    },
    "beb48c9da03f416d8a6198a40d07bc1c": {
     "model_module": "@jupyter-widgets/controls",
     "model_module_version": "1.5.0",
     "model_name": "ProgressStyleModel",
     "state": {
      "_model_module": "@jupyter-widgets/controls",
      "_model_module_version": "1.5.0",
      "_model_name": "ProgressStyleModel",
      "_view_count": null,
      "_view_module": "@jupyter-widgets/base",
      "_view_module_version": "1.2.0",
      "_view_name": "StyleView",
      "bar_color": null,
      "description_width": ""
     }
    },
    "c08745a860124e6d8bf8552b364fe73f": {
     "model_module": "@jupyter-widgets/controls",
     "model_module_version": "1.5.0",
     "model_name": "ProgressStyleModel",
     "state": {
      "_model_module": "@jupyter-widgets/controls",
      "_model_module_version": "1.5.0",
      "_model_name": "ProgressStyleModel",
      "_view_count": null,
      "_view_module": "@jupyter-widgets/base",
      "_view_module_version": "1.2.0",
      "_view_name": "StyleView",
      "bar_color": null,
      "description_width": ""
     }
    },
    "c6976dc3f5ce486888233c072e4be036": {
     "model_module": "@jupyter-widgets/controls",
     "model_module_version": "1.5.0",
     "model_name": "ProgressStyleModel",
     "state": {
      "_model_module": "@jupyter-widgets/controls",
      "_model_module_version": "1.5.0",
      "_model_name": "ProgressStyleModel",
      "_view_count": null,
      "_view_module": "@jupyter-widgets/base",
      "_view_module_version": "1.2.0",
      "_view_name": "StyleView",
      "bar_color": null,
      "description_width": ""
     }
    },
    "c7e5d9ecb41c408f8a1050154ee88a51": {
     "model_module": "@jupyter-widgets/base",
     "model_module_version": "1.2.0",
     "model_name": "LayoutModel",
     "state": {
      "_model_module": "@jupyter-widgets/base",
      "_model_module_version": "1.2.0",
      "_model_name": "LayoutModel",
      "_view_count": null,
      "_view_module": "@jupyter-widgets/base",
      "_view_module_version": "1.2.0",
      "_view_name": "LayoutView",
      "align_content": null,
      "align_items": null,
      "align_self": null,
      "border": null,
      "bottom": null,
      "display": null,
      "flex": null,
      "flex_flow": null,
      "grid_area": null,
      "grid_auto_columns": null,
      "grid_auto_flow": null,
      "grid_auto_rows": null,
      "grid_column": null,
      "grid_gap": null,
      "grid_row": null,
      "grid_template_areas": null,
      "grid_template_columns": null,
      "grid_template_rows": null,
      "height": "25px",
      "justify_content": null,
      "justify_items": null,
      "left": null,
      "margin": null,
      "max_height": null,
      "max_width": null,
      "min_height": null,
      "min_width": null,
      "object_fit": null,
      "object_position": null,
      "order": null,
      "overflow": null,
      "overflow_x": null,
      "overflow_y": null,
      "padding": null,
      "right": null,
      "top": null,
      "visibility": null,
      "width": "50%"
     }
    },
    "d7501443931f45e497690cfb506808d8": {
     "model_module": "@jupyter-widgets/base",
     "model_module_version": "1.2.0",
     "model_name": "LayoutModel",
     "state": {
      "_model_module": "@jupyter-widgets/base",
      "_model_module_version": "1.2.0",
      "_model_name": "LayoutModel",
      "_view_count": null,
      "_view_module": "@jupyter-widgets/base",
      "_view_module_version": "1.2.0",
      "_view_name": "LayoutView",
      "align_content": null,
      "align_items": null,
      "align_self": null,
      "border": null,
      "bottom": null,
      "display": null,
      "flex": null,
      "flex_flow": null,
      "grid_area": null,
      "grid_auto_columns": null,
      "grid_auto_flow": null,
      "grid_auto_rows": null,
      "grid_column": null,
      "grid_gap": null,
      "grid_row": null,
      "grid_template_areas": null,
      "grid_template_columns": null,
      "grid_template_rows": null,
      "height": "25px",
      "justify_content": null,
      "justify_items": null,
      "left": null,
      "margin": null,
      "max_height": null,
      "max_width": null,
      "min_height": null,
      "min_width": null,
      "object_fit": null,
      "object_position": null,
      "order": null,
      "overflow": null,
      "overflow_x": null,
      "overflow_y": null,
      "padding": null,
      "right": null,
      "top": null,
      "visibility": null,
      "width": "50%"
     }
    },
    "da58142420294dfaa9942c0ea858a371": {
     "model_module": "@jupyter-widgets/controls",
     "model_module_version": "1.5.0",
     "model_name": "FloatProgressModel",
     "state": {
      "_dom_classes": [],
      "_model_module": "@jupyter-widgets/controls",
      "_model_module_version": "1.5.0",
      "_model_name": "FloatProgressModel",
      "_view_count": null,
      "_view_module": "@jupyter-widgets/controls",
      "_view_module_version": "1.5.0",
      "_view_name": "ProgressView",
      "bar_style": "info",
      "description": "Progress:",
      "description_tooltip": null,
      "layout": "IPY_MODEL_2ea801cde9324a28a67ccb97486ca668",
      "max": 1,
      "min": 0,
      "orientation": "horizontal",
      "style": "IPY_MODEL_298152f822d54e6d8e8e06c3c2cdaadb",
      "value": 0
     }
    },
    "f531803630bb44c9847a6a7aea07d956": {
     "model_module": "@jupyter-widgets/controls",
     "model_module_version": "1.5.0",
     "model_name": "FloatProgressModel",
     "state": {
      "_dom_classes": [],
      "_model_module": "@jupyter-widgets/controls",
      "_model_module_version": "1.5.0",
      "_model_name": "FloatProgressModel",
      "_view_count": null,
      "_view_module": "@jupyter-widgets/controls",
      "_view_module_version": "1.5.0",
      "_view_name": "ProgressView",
      "bar_style": "info",
      "description": "Progress:",
      "description_tooltip": null,
      "layout": "IPY_MODEL_54c1dcfbeb934eb3b7cd26b2bd4cb579",
      "max": 1,
      "min": 0,
      "orientation": "horizontal",
      "style": "IPY_MODEL_c6976dc3f5ce486888233c072e4be036",
      "value": 0
     }
    },
    "f82e905e95af4e7598eff9c5559c8e80": {
     "model_module": "@jupyter-widgets/base",
     "model_module_version": "1.2.0",
     "model_name": "LayoutModel",
     "state": {
      "_model_module": "@jupyter-widgets/base",
      "_model_module_version": "1.2.0",
      "_model_name": "LayoutModel",
      "_view_count": null,
      "_view_module": "@jupyter-widgets/base",
      "_view_module_version": "1.2.0",
      "_view_name": "LayoutView",
      "align_content": null,
      "align_items": null,
      "align_self": null,
      "border": null,
      "bottom": null,
      "display": null,
      "flex": null,
      "flex_flow": null,
      "grid_area": null,
      "grid_auto_columns": null,
      "grid_auto_flow": null,
      "grid_auto_rows": null,
      "grid_column": null,
      "grid_gap": null,
      "grid_row": null,
      "grid_template_areas": null,
      "grid_template_columns": null,
      "grid_template_rows": null,
      "height": "25px",
      "justify_content": null,
      "justify_items": null,
      "left": null,
      "margin": null,
      "max_height": null,
      "max_width": null,
      "min_height": null,
      "min_width": null,
      "object_fit": null,
      "object_position": null,
      "order": null,
      "overflow": null,
      "overflow_x": null,
      "overflow_y": null,
      "padding": null,
      "right": null,
      "top": null,
      "visibility": null,
      "width": "50%"
     }
    }
   }
  }
 },
 "nbformat": 4,
 "nbformat_minor": 0
}
